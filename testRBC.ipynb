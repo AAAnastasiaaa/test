{
 "cells": [
  {
   "cell_type": "markdown",
   "id": "e255027a",
   "metadata": {},
   "source": [
    "Загрузка библиотек."
   ]
  },
  {
   "cell_type": "code",
   "execution_count": 271,
   "id": "2b123c4c",
   "metadata": {},
   "outputs": [],
   "source": [
    "import pandas as pd\n",
    "from IPython.display import display, HTML"
   ]
  },
  {
   "cell_type": "markdown",
   "id": "ed6c902b",
   "metadata": {},
   "source": [
    "Загрузка листов excel файла. "
   ]
  },
  {
   "cell_type": "code",
   "execution_count": 272,
   "id": "98bdfa6f",
   "metadata": {},
   "outputs": [],
   "source": [
    "df_articles = pd.read_excel('Аналитик данных _Тестовое задание _РБК.xlsx', sheet_name = 'База публикаций')\n",
    "df_views = pd.read_excel('Аналитик данных _Тестовое задание _РБК.xlsx', sheet_name = 'Выгрузка', skiprows = lambda x: x in [0, 1])"
   ]
  },
  {
   "cell_type": "markdown",
   "id": "13e7af87",
   "metadata": {},
   "source": [
    "Просмотр данных, их типов, пропущенных значений."
   ]
  },
  {
   "cell_type": "code",
   "execution_count": 273,
   "id": "79aaa798",
   "metadata": {},
   "outputs": [
    {
     "data": {
      "text/html": [
       "<div>\n",
       "<style scoped>\n",
       "    .dataframe tbody tr th:only-of-type {\n",
       "        vertical-align: middle;\n",
       "    }\n",
       "\n",
       "    .dataframe tbody tr th {\n",
       "        vertical-align: top;\n",
       "    }\n",
       "\n",
       "    .dataframe thead th {\n",
       "        text-align: right;\n",
       "    }\n",
       "</style>\n",
       "<table border=\"1\" class=\"dataframe\">\n",
       "  <thead>\n",
       "    <tr style=\"text-align: right;\">\n",
       "      <th></th>\n",
       "      <th>ID публикации</th>\n",
       "      <th>Заголовок материала</th>\n",
       "      <th>URL</th>\n",
       "    </tr>\n",
       "  </thead>\n",
       "  <tbody>\n",
       "    <tr>\n",
       "      <th>0</th>\n",
       "      <td>5bf52faf9a79477da426e81b</td>\n",
       "      <td>Как обанкротиться подешевле: прагматичные наст...</td>\n",
       "      <td>https://pro.rbc.ru/news/5bf52faf9a79477da426e81b</td>\n",
       "    </tr>\n",
       "    <tr>\n",
       "      <th>1</th>\n",
       "      <td>5c04ee439a7947b3fe48fe55</td>\n",
       "      <td>Имитация тунца: как искусственная рыба вытесня...</td>\n",
       "      <td>https://pro.rbc.ru/news/5c04ee439a7947b3fe48fe55</td>\n",
       "    </tr>\n",
       "    <tr>\n",
       "      <th>2</th>\n",
       "      <td>5c04f06c9a7947b48d48fe60</td>\n",
       "      <td>Сколько россияне тратят на путешествия</td>\n",
       "      <td>https://pro.rbc.ru/news/5c04f06c9a7947b48d48fe60</td>\n",
       "    </tr>\n",
       "    <tr>\n",
       "      <th>3</th>\n",
       "      <td>5c0695d69a79472e0096479e</td>\n",
       "      <td>Самые ходовые: какие специалисты в строительст...</td>\n",
       "      <td>https://pro.rbc.ru/news/5c0695d69a79472e0096479e</td>\n",
       "    </tr>\n",
       "    <tr>\n",
       "      <th>4</th>\n",
       "      <td>5c07891f9a794775e61affd1</td>\n",
       "      <td>Как запустить новый продукт: четыре обязательн...</td>\n",
       "      <td>https://pro.rbc.ru/news/5c07891f9a794775e61affd1</td>\n",
       "    </tr>\n",
       "  </tbody>\n",
       "</table>\n",
       "</div>"
      ],
      "text/plain": [
       "              ID публикации  \\\n",
       "0  5bf52faf9a79477da426e81b   \n",
       "1  5c04ee439a7947b3fe48fe55   \n",
       "2  5c04f06c9a7947b48d48fe60   \n",
       "3  5c0695d69a79472e0096479e   \n",
       "4  5c07891f9a794775e61affd1   \n",
       "\n",
       "                                 Заголовок материала  \\\n",
       "0  Как обанкротиться подешевле: прагматичные наст...   \n",
       "1  Имитация тунца: как искусственная рыба вытесня...   \n",
       "2             Сколько россияне тратят на путешествия   \n",
       "3  Самые ходовые: какие специалисты в строительст...   \n",
       "4  Как запустить новый продукт: четыре обязательн...   \n",
       "\n",
       "                                                URL  \n",
       "0  https://pro.rbc.ru/news/5bf52faf9a79477da426e81b  \n",
       "1  https://pro.rbc.ru/news/5c04ee439a7947b3fe48fe55  \n",
       "2  https://pro.rbc.ru/news/5c04f06c9a7947b48d48fe60  \n",
       "3  https://pro.rbc.ru/news/5c0695d69a79472e0096479e  \n",
       "4  https://pro.rbc.ru/news/5c07891f9a794775e61affd1  "
      ]
     },
     "execution_count": 273,
     "metadata": {},
     "output_type": "execute_result"
    }
   ],
   "source": [
    "df_articles.head()"
   ]
  },
  {
   "cell_type": "code",
   "execution_count": 274,
   "id": "84b6b3bf",
   "metadata": {},
   "outputs": [
    {
     "name": "stdout",
     "output_type": "stream",
     "text": [
      "<class 'pandas.core.frame.DataFrame'>\n",
      "RangeIndex: 454 entries, 0 to 453\n",
      "Data columns (total 3 columns):\n",
      " #   Column               Non-Null Count  Dtype \n",
      "---  ------               --------------  ----- \n",
      " 0   ID публикации        454 non-null    object\n",
      " 1   Заголовок материала  454 non-null    object\n",
      " 2   URL                  454 non-null    object\n",
      "dtypes: object(3)\n",
      "memory usage: 10.8+ KB\n"
     ]
    }
   ],
   "source": [
    "df_articles.info()"
   ]
  },
  {
   "cell_type": "code",
   "execution_count": 275,
   "id": "b2c9c5c0",
   "metadata": {},
   "outputs": [
    {
     "data": {
      "text/plain": [
       "ID публикации          454\n",
       "Заголовок материала    454\n",
       "URL                    454\n",
       "dtype: int64"
      ]
     },
     "execution_count": 275,
     "metadata": {},
     "output_type": "execute_result"
    }
   ],
   "source": [
    "df_articles.isnull().count()"
   ]
  },
  {
   "cell_type": "code",
   "execution_count": 276,
   "id": "8b80efa7",
   "metadata": {},
   "outputs": [
    {
     "name": "stdout",
     "output_type": "stream",
     "text": [
      "<class 'pandas.core.frame.DataFrame'>\n",
      "RangeIndex: 2696 entries, 0 to 2695\n",
      "Data columns (total 2 columns):\n",
      " #   Column          Non-Null Count  Dtype \n",
      "---  ------          --------------  ----- \n",
      " 0   Адрес страницы  2696 non-null   object\n",
      " 1   Просмотры       2696 non-null   int64 \n",
      "dtypes: int64(1), object(1)\n",
      "memory usage: 42.2+ KB\n"
     ]
    }
   ],
   "source": [
    "df_views.info()"
   ]
  },
  {
   "cell_type": "code",
   "execution_count": 277,
   "id": "12380b7b",
   "metadata": {},
   "outputs": [
    {
     "data": {
      "text/html": [
       "<div>\n",
       "<style scoped>\n",
       "    .dataframe tbody tr th:only-of-type {\n",
       "        vertical-align: middle;\n",
       "    }\n",
       "\n",
       "    .dataframe tbody tr th {\n",
       "        vertical-align: top;\n",
       "    }\n",
       "\n",
       "    .dataframe thead th {\n",
       "        text-align: right;\n",
       "    }\n",
       "</style>\n",
       "<table border=\"1\" class=\"dataframe\">\n",
       "  <thead>\n",
       "    <tr style=\"text-align: right;\">\n",
       "      <th></th>\n",
       "      <th>Просмотры</th>\n",
       "    </tr>\n",
       "  </thead>\n",
       "  <tbody>\n",
       "    <tr>\n",
       "      <th>count</th>\n",
       "      <td>2696.000000</td>\n",
       "    </tr>\n",
       "    <tr>\n",
       "      <th>mean</th>\n",
       "      <td>106.040430</td>\n",
       "    </tr>\n",
       "    <tr>\n",
       "      <th>std</th>\n",
       "      <td>333.579372</td>\n",
       "    </tr>\n",
       "    <tr>\n",
       "      <th>min</th>\n",
       "      <td>1.000000</td>\n",
       "    </tr>\n",
       "    <tr>\n",
       "      <th>25%</th>\n",
       "      <td>4.000000</td>\n",
       "    </tr>\n",
       "    <tr>\n",
       "      <th>50%</th>\n",
       "      <td>11.000000</td>\n",
       "    </tr>\n",
       "    <tr>\n",
       "      <th>75%</th>\n",
       "      <td>34.250000</td>\n",
       "    </tr>\n",
       "    <tr>\n",
       "      <th>max</th>\n",
       "      <td>2849.000000</td>\n",
       "    </tr>\n",
       "  </tbody>\n",
       "</table>\n",
       "</div>"
      ],
      "text/plain": [
       "         Просмотры\n",
       "count  2696.000000\n",
       "mean    106.040430\n",
       "std     333.579372\n",
       "min       1.000000\n",
       "25%       4.000000\n",
       "50%      11.000000\n",
       "75%      34.250000\n",
       "max    2849.000000"
      ]
     },
     "execution_count": 277,
     "metadata": {},
     "output_type": "execute_result"
    }
   ],
   "source": [
    "df_views.describe()"
   ]
  },
  {
   "cell_type": "code",
   "execution_count": 278,
   "id": "e311209d",
   "metadata": {},
   "outputs": [
    {
     "data": {
      "text/plain": [
       "Адрес страницы    2696\n",
       "Просмотры         2696\n",
       "dtype: int64"
      ]
     },
     "execution_count": 278,
     "metadata": {},
     "output_type": "execute_result"
    }
   ],
   "source": [
    "df_views.isnull().count()"
   ]
  },
  {
   "cell_type": "markdown",
   "id": "c99226a9",
   "metadata": {},
   "source": [
    "Типы данных верные, пропущенных значений нет."
   ]
  },
  {
   "cell_type": "markdown",
   "id": "7cc08dff",
   "metadata": {},
   "source": [
    "Исключение из списка ненужных адресов."
   ]
  },
  {
   "cell_type": "code",
   "execution_count": 279,
   "id": "bf8cbc52",
   "metadata": {},
   "outputs": [],
   "source": [
    "URL = {'test.pro',\n",
    "'test.v2.pro',\n",
    "'feature-rbcnews',\n",
    "'/preview/',\n",
    "'staging.pro',\n",
    "'staging.v2.pro'}"
   ]
  },
  {
   "cell_type": "code",
   "execution_count": 280,
   "id": "1890426c",
   "metadata": {},
   "outputs": [
    {
     "data": {
      "text/html": [
       "<div>\n",
       "<style scoped>\n",
       "    .dataframe tbody tr th:only-of-type {\n",
       "        vertical-align: middle;\n",
       "    }\n",
       "\n",
       "    .dataframe tbody tr th {\n",
       "        vertical-align: top;\n",
       "    }\n",
       "\n",
       "    .dataframe thead th {\n",
       "        text-align: right;\n",
       "    }\n",
       "</style>\n",
       "<table border=\"1\" class=\"dataframe\">\n",
       "  <thead>\n",
       "    <tr style=\"text-align: right;\">\n",
       "      <th></th>\n",
       "      <th>Адрес страницы</th>\n",
       "      <th>Просмотры</th>\n",
       "    </tr>\n",
       "  </thead>\n",
       "  <tbody>\n",
       "    <tr>\n",
       "      <th>0</th>\n",
       "      <td>https://pro.rbc.ru/news/5c4af9ed9a7947bd94fe0cc9</td>\n",
       "      <td>2849</td>\n",
       "    </tr>\n",
       "    <tr>\n",
       "      <th>1</th>\n",
       "      <td>http://pro.rbc.ru/news/5c61b2d39a794798b96fab0c</td>\n",
       "      <td>2845</td>\n",
       "    </tr>\n",
       "    <tr>\n",
       "      <th>2</th>\n",
       "      <td>https://pro.rbc.ru/news/5c6195799a79478b57ba6cf3</td>\n",
       "      <td>2819</td>\n",
       "    </tr>\n",
       "    <tr>\n",
       "      <th>3</th>\n",
       "      <td>https://pro.rbc.ru//news/5c63fbff9a7947481bf4ce1b</td>\n",
       "      <td>2736</td>\n",
       "    </tr>\n",
       "    <tr>\n",
       "      <th>4</th>\n",
       "      <td>https://pro.rbc.ru/news/5c46d39b9a7947fc20fbcce6</td>\n",
       "      <td>2704</td>\n",
       "    </tr>\n",
       "    <tr>\n",
       "      <th>...</th>\n",
       "      <td>...</td>\n",
       "      <td>...</td>\n",
       "    </tr>\n",
       "    <tr>\n",
       "      <th>2691</th>\n",
       "      <td>https://pro.rbc.ru/news/5c63fbff9a7947481bf4ce1b</td>\n",
       "      <td>1</td>\n",
       "    </tr>\n",
       "    <tr>\n",
       "      <th>2692</th>\n",
       "      <td>https://pro.rbc.ru/news/5c6297279a7947d83339d513</td>\n",
       "      <td>1</td>\n",
       "    </tr>\n",
       "    <tr>\n",
       "      <th>2693</th>\n",
       "      <td>https://pro.rbc.ru/news/5c62c45c9a7947eaedb915e4</td>\n",
       "      <td>1</td>\n",
       "    </tr>\n",
       "    <tr>\n",
       "      <th>2694</th>\n",
       "      <td>https://pro.rbc.ru/news/5c643a319a794760bbe62974</td>\n",
       "      <td>1</td>\n",
       "    </tr>\n",
       "    <tr>\n",
       "      <th>2695</th>\n",
       "      <td>https://pro.rbc.ru/news/5c24c9d79a794793915ce240</td>\n",
       "      <td>1</td>\n",
       "    </tr>\n",
       "  </tbody>\n",
       "</table>\n",
       "<p>2465 rows × 2 columns</p>\n",
       "</div>"
      ],
      "text/plain": [
       "                                         Адрес страницы  Просмотры\n",
       "0      https://pro.rbc.ru/news/5c4af9ed9a7947bd94fe0cc9       2849\n",
       "1       http://pro.rbc.ru/news/5c61b2d39a794798b96fab0c       2845\n",
       "2      https://pro.rbc.ru/news/5c6195799a79478b57ba6cf3       2819\n",
       "3     https://pro.rbc.ru//news/5c63fbff9a7947481bf4ce1b       2736\n",
       "4      https://pro.rbc.ru/news/5c46d39b9a7947fc20fbcce6       2704\n",
       "...                                                 ...        ...\n",
       "2691   https://pro.rbc.ru/news/5c63fbff9a7947481bf4ce1b          1\n",
       "2692   https://pro.rbc.ru/news/5c6297279a7947d83339d513          1\n",
       "2693   https://pro.rbc.ru/news/5c62c45c9a7947eaedb915e4          1\n",
       "2694   https://pro.rbc.ru/news/5c643a319a794760bbe62974          1\n",
       "2695   https://pro.rbc.ru/news/5c24c9d79a794793915ce240          1\n",
       "\n",
       "[2465 rows x 2 columns]"
      ]
     },
     "execution_count": 280,
     "metadata": {},
     "output_type": "execute_result"
    }
   ],
   "source": [
    "for i in URL:\n",
    "    df_views = df_views.loc[~df_views['Адрес страницы'].str.contains(i)]\n",
    "df_views"
   ]
  },
  {
   "cell_type": "markdown",
   "id": "040c70c0",
   "metadata": {},
   "source": [
    "Группировка по адресам ссылок и подсчет общего количества просмотров, сортировка по убыванию просмотров."
   ]
  },
  {
   "cell_type": "code",
   "execution_count": 281,
   "id": "dd43574e",
   "metadata": {},
   "outputs": [
    {
     "data": {
      "text/html": [
       "<div>\n",
       "<style scoped>\n",
       "    .dataframe tbody tr th:only-of-type {\n",
       "        vertical-align: middle;\n",
       "    }\n",
       "\n",
       "    .dataframe tbody tr th {\n",
       "        vertical-align: top;\n",
       "    }\n",
       "\n",
       "    .dataframe thead th {\n",
       "        text-align: right;\n",
       "    }\n",
       "</style>\n",
       "<table border=\"1\" class=\"dataframe\">\n",
       "  <thead>\n",
       "    <tr style=\"text-align: right;\">\n",
       "      <th></th>\n",
       "      <th>Просмотры</th>\n",
       "    </tr>\n",
       "    <tr>\n",
       "      <th>Адрес страницы</th>\n",
       "      <th></th>\n",
       "    </tr>\n",
       "  </thead>\n",
       "  <tbody>\n",
       "    <tr>\n",
       "      <th>https://pro.rbc.ru/news/5c658e479a79474d32847233</th>\n",
       "      <td>11320</td>\n",
       "    </tr>\n",
       "    <tr>\n",
       "      <th>https://pro.rbc.ru/news/5c65950d9a79474f82f780d7</th>\n",
       "      <td>7422</td>\n",
       "    </tr>\n",
       "    <tr>\n",
       "      <th>https://pro.rbc.ru/news/5c503adb9a794784a693903b</th>\n",
       "      <td>7044</td>\n",
       "    </tr>\n",
       "    <tr>\n",
       "      <th>https://pro.rbc.ru/news/5c6454df9a794769a732e049</th>\n",
       "      <td>6483</td>\n",
       "    </tr>\n",
       "    <tr>\n",
       "      <th>https://pro.rbc.ru/news/5c643a319a794760bbe62974</th>\n",
       "      <td>6325</td>\n",
       "    </tr>\n",
       "    <tr>\n",
       "      <th>...</th>\n",
       "      <td>...</td>\n",
       "    </tr>\n",
       "    <tr>\n",
       "      <th>https://pro.rbc.ru/rbcfreenews/5c61a5d59a7947953f607f2f</th>\n",
       "      <td>1</td>\n",
       "    </tr>\n",
       "    <tr>\n",
       "      <th>https://pro.rbc.ru//news/5bf584f29a794719f9ae353d</th>\n",
       "      <td>1</td>\n",
       "    </tr>\n",
       "    <tr>\n",
       "      <th>https://pro.rbc.ru/news/5b28f5269a794763036e17e9</th>\n",
       "      <td>1</td>\n",
       "    </tr>\n",
       "    <tr>\n",
       "      <th>https://pro.rbc.ru/rbcfreenews/5c2376d09a79470daf8d2b5f</th>\n",
       "      <td>1</td>\n",
       "    </tr>\n",
       "    <tr>\n",
       "      <th>https://pro.rbc.ru/news/5bbf02f49a7947ebeaff6fcf</th>\n",
       "      <td>1</td>\n",
       "    </tr>\n",
       "  </tbody>\n",
       "</table>\n",
       "<p>830 rows × 1 columns</p>\n",
       "</div>"
      ],
      "text/plain": [
       "                                                    Просмотры\n",
       "Адрес страницы                                               \n",
       "https://pro.rbc.ru/news/5c658e479a79474d32847233        11320\n",
       "https://pro.rbc.ru/news/5c65950d9a79474f82f780d7         7422\n",
       "https://pro.rbc.ru/news/5c503adb9a794784a693903b         7044\n",
       "https://pro.rbc.ru/news/5c6454df9a794769a732e049         6483\n",
       "https://pro.rbc.ru/news/5c643a319a794760bbe62974         6325\n",
       "...                                                       ...\n",
       "https://pro.rbc.ru/rbcfreenews/5c61a5d59a794795...          1\n",
       "https://pro.rbc.ru//news/5bf584f29a794719f9ae353d           1\n",
       "https://pro.rbc.ru/news/5b28f5269a794763036e17e9            1\n",
       "https://pro.rbc.ru/rbcfreenews/5c2376d09a79470d...          1\n",
       "https://pro.rbc.ru/news/5bbf02f49a7947ebeaff6fcf            1\n",
       "\n",
       "[830 rows x 1 columns]"
      ]
     },
     "execution_count": 281,
     "metadata": {},
     "output_type": "execute_result"
    }
   ],
   "source": [
    "df_views = df_views.pivot_table(\n",
    "    values = 'Просмотры'\n",
    "    , index = 'Адрес страницы'\n",
    "    , aggfunc = 'sum'\n",
    ").sort_values('Просмотры', ascending = False)\n",
    "df_views"
   ]
  },
  {
   "cell_type": "markdown",
   "id": "c78c8c25",
   "metadata": {},
   "source": [
    "Соединение двух таблиц для получения общего списка с заголовками, адресами и просмотрами."
   ]
  },
  {
   "cell_type": "code",
   "execution_count": 282,
   "id": "bdb13749",
   "metadata": {},
   "outputs": [
    {
     "data": {
      "text/html": [
       "<div>\n",
       "<style scoped>\n",
       "    .dataframe tbody tr th:only-of-type {\n",
       "        vertical-align: middle;\n",
       "    }\n",
       "\n",
       "    .dataframe tbody tr th {\n",
       "        vertical-align: top;\n",
       "    }\n",
       "\n",
       "    .dataframe thead th {\n",
       "        text-align: right;\n",
       "    }\n",
       "</style>\n",
       "<table border=\"1\" class=\"dataframe\">\n",
       "  <thead>\n",
       "    <tr style=\"text-align: right;\">\n",
       "      <th></th>\n",
       "      <th>Заголовок материала</th>\n",
       "      <th>URL</th>\n",
       "      <th>Просмотры</th>\n",
       "    </tr>\n",
       "  </thead>\n",
       "  <tbody>\n",
       "    <tr>\n",
       "      <th>0</th>\n",
       "      <td>Глава BlaBlaCar — РБК: «Мы оказывали услуги, н...</td>\n",
       "      <td>https://pro.rbc.ru/news/5c658e479a79474d32847233</td>\n",
       "      <td>11320</td>\n",
       "    </tr>\n",
       "    <tr>\n",
       "      <th>1</th>\n",
       "      <td>«Алые паруса» сворачиваются: почему владельцы ...</td>\n",
       "      <td>https://pro.rbc.ru/news/5c65950d9a79474f82f780d7</td>\n",
       "      <td>7422</td>\n",
       "    </tr>\n",
       "    <tr>\n",
       "      <th>2</th>\n",
       "      <td>Недооцененный экспорт: что имеет смысл продава...</td>\n",
       "      <td>https://pro.rbc.ru/news/5c503adb9a794784a693903b</td>\n",
       "      <td>7044</td>\n",
       "    </tr>\n",
       "    <tr>\n",
       "      <th>3</th>\n",
       "      <td>Требования работодателя vs ожидания кандидатов...</td>\n",
       "      <td>https://pro.rbc.ru/news/5c6454df9a794769a732e049</td>\n",
       "      <td>6483</td>\n",
       "    </tr>\n",
       "    <tr>\n",
       "      <th>4</th>\n",
       "      <td>Восемь способов увеличить средний чек</td>\n",
       "      <td>https://pro.rbc.ru/news/5c643a319a794760bbe62974</td>\n",
       "      <td>6325</td>\n",
       "    </tr>\n",
       "    <tr>\n",
       "      <th>...</th>\n",
       "      <td>...</td>\n",
       "      <td>...</td>\n",
       "      <td>...</td>\n",
       "    </tr>\n",
       "    <tr>\n",
       "      <th>369</th>\n",
       "      <td>Минпромторг: в 2018 году производство строймат...</td>\n",
       "      <td>https://pro.rbc.ru/news/5c5055d39a79478fbfa98466</td>\n",
       "      <td>2</td>\n",
       "    </tr>\n",
       "    <tr>\n",
       "      <th>370</th>\n",
       "      <td>Какие неудобства ждут клиентов самозанятых гра...</td>\n",
       "      <td>https://pro.rbc.ru/news/5c4185729a79472af5fd3e5d</td>\n",
       "      <td>2</td>\n",
       "    </tr>\n",
       "    <tr>\n",
       "      <th>371</th>\n",
       "      <td>Бананы и киндер-сюрпризы: что москвичи заказыв...</td>\n",
       "      <td>https://pro.rbc.ru/news/5c125b1a9a794773c945fd60</td>\n",
       "      <td>2</td>\n",
       "    </tr>\n",
       "    <tr>\n",
       "      <th>372</th>\n",
       "      <td>Ставка на zero: как девелоперы расплачиваются ...</td>\n",
       "      <td>https://pro.rbc.ru/news/5c0fcd779a7947a6b2f354f7</td>\n",
       "      <td>1</td>\n",
       "    </tr>\n",
       "    <tr>\n",
       "      <th>373</th>\n",
       "      <td>Аналитики ожидают роста цен на элитную недвижи...</td>\n",
       "      <td>https://pro.rbc.ru/news/5c19ee039a79476dc58cff81</td>\n",
       "      <td>1</td>\n",
       "    </tr>\n",
       "  </tbody>\n",
       "</table>\n",
       "<p>374 rows × 3 columns</p>\n",
       "</div>"
      ],
      "text/plain": [
       "                                   Заголовок материала  \\\n",
       "0    Глава BlaBlaCar — РБК: «Мы оказывали услуги, н...   \n",
       "1    «Алые паруса» сворачиваются: почему владельцы ...   \n",
       "2    Недооцененный экспорт: что имеет смысл продава...   \n",
       "3    Требования работодателя vs ожидания кандидатов...   \n",
       "4                Восемь способов увеличить средний чек   \n",
       "..                                                 ...   \n",
       "369  Минпромторг: в 2018 году производство строймат...   \n",
       "370  Какие неудобства ждут клиентов самозанятых гра...   \n",
       "371  Бананы и киндер-сюрпризы: что москвичи заказыв...   \n",
       "372  Ставка на zero: как девелоперы расплачиваются ...   \n",
       "373  Аналитики ожидают роста цен на элитную недвижи...   \n",
       "\n",
       "                                                  URL  Просмотры  \n",
       "0    https://pro.rbc.ru/news/5c658e479a79474d32847233      11320  \n",
       "1    https://pro.rbc.ru/news/5c65950d9a79474f82f780d7       7422  \n",
       "2    https://pro.rbc.ru/news/5c503adb9a794784a693903b       7044  \n",
       "3    https://pro.rbc.ru/news/5c6454df9a794769a732e049       6483  \n",
       "4    https://pro.rbc.ru/news/5c643a319a794760bbe62974       6325  \n",
       "..                                                ...        ...  \n",
       "369  https://pro.rbc.ru/news/5c5055d39a79478fbfa98466          2  \n",
       "370  https://pro.rbc.ru/news/5c4185729a79472af5fd3e5d          2  \n",
       "371  https://pro.rbc.ru/news/5c125b1a9a794773c945fd60          2  \n",
       "372  https://pro.rbc.ru/news/5c0fcd779a7947a6b2f354f7          1  \n",
       "373  https://pro.rbc.ru/news/5c19ee039a79476dc58cff81          1  \n",
       "\n",
       "[374 rows x 3 columns]"
      ]
     },
     "execution_count": 282,
     "metadata": {},
     "output_type": "execute_result"
    }
   ],
   "source": [
    "df_merge = df_views.merge(df_articles, left_on = 'Адрес страницы', right_on = 'URL')\\\n",
    "            [['Заголовок материала', 'URL', 'Просмотры']]\n",
    "df_merge"
   ]
  },
  {
   "cell_type": "markdown",
   "id": "efa83f89",
   "metadata": {},
   "source": [
    "Добавление столбца с кликабельными ссылками.  \n",
    "Сохранение 20-ти самых посещаемых. "
   ]
  },
  {
   "cell_type": "code",
   "execution_count": 283,
   "id": "669fc46e",
   "metadata": {},
   "outputs": [
    {
     "data": {
      "text/html": [
       "<style type=\"text/css\">\n",
       "</style>\n",
       "<table id=\"T_a9b2d\">\n",
       "  <thead>\n",
       "    <tr>\n",
       "      <th id=\"T_a9b2d_level0_col0\" class=\"col_heading level0 col0\" >ТОП 20</th>\n",
       "    </tr>\n",
       "  </thead>\n",
       "  <tbody>\n",
       "    <tr>\n",
       "      <td id=\"T_a9b2d_row0_col0\" class=\"data row0 col0\" ><a href=\"https://pro.rbc.ru/news/5c658e479a79474d32847233\" target=\"_blank\">Глава BlaBlaCar — РБК: «Мы оказывали услуги, но ничего не зарабатывали»</a></td>\n",
       "    </tr>\n",
       "    <tr>\n",
       "      <td id=\"T_a9b2d_row1_col0\" class=\"data row1 col0\" ><a href=\"https://pro.rbc.ru/news/5c65950d9a79474f82f780d7\" target=\"_blank\">«Алые паруса» сворачиваются: почему владельцы сети выходят из бизнеса</a></td>\n",
       "    </tr>\n",
       "    <tr>\n",
       "      <td id=\"T_a9b2d_row2_col0\" class=\"data row2 col0\" ><a href=\"https://pro.rbc.ru/news/5c503adb9a794784a693903b\" target=\"_blank\">Недооцененный экспорт: что имеет смысл продавать за рубеж</a></td>\n",
       "    </tr>\n",
       "    <tr>\n",
       "      <td id=\"T_a9b2d_row3_col0\" class=\"data row3 col0\" ><a href=\"https://pro.rbc.ru/news/5c6454df9a794769a732e049\" target=\"_blank\">Требования работодателя vs ожидания кандидатов в ТЭКе — 2019</a></td>\n",
       "    </tr>\n",
       "    <tr>\n",
       "      <td id=\"T_a9b2d_row4_col0\" class=\"data row4 col0\" ><a href=\"https://pro.rbc.ru/news/5c643a319a794760bbe62974\" target=\"_blank\">Восемь способов увеличить средний чек</a></td>\n",
       "    </tr>\n",
       "    <tr>\n",
       "      <td id=\"T_a9b2d_row5_col0\" class=\"data row5 col0\" ><a href=\"https://pro.rbc.ru/news/5c6579039a794742acb7ebe3\" target=\"_blank\">Менеджеры РФ получают дополнительное образование в основном за свой счет</a></td>\n",
       "    </tr>\n",
       "    <tr>\n",
       "      <td id=\"T_a9b2d_row6_col0\" class=\"data row6 col0\" ><a href=\"https://pro.rbc.ru/news/5c60c9fd9a794747ed04cfe2\" target=\"_blank\">Как трансформируется логистика в ретейле: лучшие практики</a></td>\n",
       "    </tr>\n",
       "    <tr>\n",
       "      <td id=\"T_a9b2d_row7_col0\" class=\"data row7 col0\" ><a href=\"https://pro.rbc.ru/news/5c627bba9a7947cb36ac9898\" target=\"_blank\">Эксперты: российскому рынку кофеен можно «поправиться» на 870 млрд руб.</a></td>\n",
       "    </tr>\n",
       "    <tr>\n",
       "      <td id=\"T_a9b2d_row8_col0\" class=\"data row8 col0\" ><a href=\"https://pro.rbc.ru/news/5c6195799a79478b57ba6cf3\" target=\"_blank\">Математика российского люкса: точный портрет покупателя предметов роскоши</a></td>\n",
       "    </tr>\n",
       "    <tr>\n",
       "      <td id=\"T_a9b2d_row9_col0\" class=\"data row9 col0\" ><a href=\"https://pro.rbc.ru/news/5c6400fa9a79474974a37aab\" target=\"_blank\">Россиянам все труднее платить ипотеку и покупать жилье</a></td>\n",
       "    </tr>\n",
       "    <tr>\n",
       "      <td id=\"T_a9b2d_row10_col0\" class=\"data row10 col0\" ><a href=\"https://pro.rbc.ru/news/5c46d39b9a7947fc20fbcce6\" target=\"_blank\">Связанные кешбэком: как ретейл зарабатывает на возврате денег с покупок</a></td>\n",
       "    </tr>\n",
       "    <tr>\n",
       "      <td id=\"T_a9b2d_row11_col0\" class=\"data row11 col0\" ><a href=\"https://pro.rbc.ru/news/5c4858c79a794777bd69e824\" target=\"_blank\">Где определенно не стоит открывать офшор</a></td>\n",
       "    </tr>\n",
       "    <tr>\n",
       "      <td id=\"T_a9b2d_row12_col0\" class=\"data row12 col0\" ><a href=\"https://pro.rbc.ru/news/5c61515a9a79476f6ed74e1b\" target=\"_blank\">Видишь, я дарю: как заработать на необычных корпоративных подарках</a></td>\n",
       "    </tr>\n",
       "    <tr>\n",
       "      <td id=\"T_a9b2d_row13_col0\" class=\"data row13 col0\" ><a href=\"https://pro.rbc.ru/news/5c4af9ed9a7947bd94fe0cc9\" target=\"_blank\">Гнетущее молчание на совещании: как разрешить скрытый конфликт в команде</a></td>\n",
       "    </tr>\n",
       "    <tr>\n",
       "      <td id=\"T_a9b2d_row14_col0\" class=\"data row14 col0\" ><a href=\"https://pro.rbc.ru/news/5c629c569a7947da4e9a227c\" target=\"_blank\">Бизнес на плаву: как супруги зарабатывают на мебели из старых лодок</a></td>\n",
       "    </tr>\n",
       "    <tr>\n",
       "      <td id=\"T_a9b2d_row15_col0\" class=\"data row15 col0\" ><a href=\"https://pro.rbc.ru/news/5c62bbac9a7947e7b47f72ba\" target=\"_blank\">Золотые геймеры: почему мировой киберспорт заговорил по-русски</a></td>\n",
       "    </tr>\n",
       "    <tr>\n",
       "      <td id=\"T_a9b2d_row16_col0\" class=\"data row16 col0\" ><a href=\"https://pro.rbc.ru/news/5c61bffb9a79479d3ee2b65c\" target=\"_blank\">Эволюция промо: как участникам рынка выйти из ловушки скидок</a></td>\n",
       "    </tr>\n",
       "    <tr>\n",
       "      <td id=\"T_a9b2d_row17_col0\" class=\"data row17 col0\" ><a href=\"https://pro.rbc.ru/news/5c62a96f9a7947e0a703b9cf\" target=\"_blank\">Отвод судьи: как обеспечить беспристрастное рассмотрение дела</a></td>\n",
       "    </tr>\n",
       "    <tr>\n",
       "      <td id=\"T_a9b2d_row18_col0\" class=\"data row18 col0\" ><a href=\"https://pro.rbc.ru/news/5c668b389a79479514089233\" target=\"_blank\">Мировой сектор товаров класса люкс восстановился в 2018 году - Deloitte</a></td>\n",
       "    </tr>\n",
       "    <tr>\n",
       "      <td id=\"T_a9b2d_row19_col0\" class=\"data row19 col0\" ><a href=\"https://pro.rbc.ru/news/5c59a8d09a79477dd51e46f0\" target=\"_blank\">Настроения 20 тыс. предпринимателей страны: полный отчет НИУ ВШЭ</a></td>\n",
       "    </tr>\n",
       "  </tbody>\n",
       "</table>\n"
      ],
      "text/plain": [
       "<pandas.io.formats.style.Styler at 0x2109d19e8c0>"
      ]
     },
     "execution_count": 283,
     "metadata": {},
     "output_type": "execute_result"
    }
   ],
   "source": [
    "def make_clickable(URL, name):\n",
    "    return f'<a href=\"{URL}\" target=\"_blank\">{name}</a>'\n",
    "df_merge['ТОП 20'] = df_merge.apply(lambda x: make_clickable(x['URL'], x['Заголовок материала']), axis = 1)\n",
    "df_merge[['ТОП 20']].head(20).style.hide(axis=\"index\").format({'url': make_clickable})"
   ]
  },
  {
   "cell_type": "code",
   "execution_count": 284,
   "id": "0c53ff2a",
   "metadata": {},
   "outputs": [
    {
     "ename": "ValueError",
     "evalue": "Cannot embed the 'https://pro.rbc.ru/news/5c658e479a79474d32847233' image format",
     "output_type": "error",
     "traceback": [
      "\u001b[1;31m---------------------------------------------------------------------------\u001b[0m",
      "\u001b[1;31mValueError\u001b[0m                                Traceback (most recent call last)",
      "Cell \u001b[1;32mIn[284], line 2\u001b[0m\n\u001b[0;32m      1\u001b[0m \u001b[38;5;28;01mfrom\u001b[39;00m \u001b[38;5;21;01mIPython\u001b[39;00m \u001b[38;5;28;01mimport\u001b[39;00m display\n\u001b[1;32m----> 2\u001b[0m \u001b[43mdisplay\u001b[49m\u001b[38;5;241;43m.\u001b[39;49m\u001b[43mImage\u001b[49m\u001b[43m(\u001b[49m\u001b[38;5;124;43m\"\u001b[39;49m\u001b[38;5;124;43mhttps://pro.rbc.ru/news/5c658e479a79474d32847233\u001b[39;49m\u001b[38;5;124;43m\"\u001b[39;49m\u001b[43m)\u001b[49m\n",
      "File \u001b[1;32m~\\AppData\\Local\\anaconda3\\lib\\site-packages\\IPython\\core\\display.py:961\u001b[0m, in \u001b[0;36mImage.__init__\u001b[1;34m(self, data, url, filename, format, embed, width, height, retina, unconfined, metadata, alt)\u001b[0m\n\u001b[0;32m    958\u001b[0m \u001b[38;5;28mself\u001b[39m\u001b[38;5;241m.\u001b[39membed \u001b[38;5;241m=\u001b[39m embed \u001b[38;5;28;01mif\u001b[39;00m embed \u001b[38;5;129;01mis\u001b[39;00m \u001b[38;5;129;01mnot\u001b[39;00m \u001b[38;5;28;01mNone\u001b[39;00m \u001b[38;5;28;01melse\u001b[39;00m (url \u001b[38;5;129;01mis\u001b[39;00m \u001b[38;5;28;01mNone\u001b[39;00m)\n\u001b[0;32m    960\u001b[0m \u001b[38;5;28;01mif\u001b[39;00m \u001b[38;5;28mself\u001b[39m\u001b[38;5;241m.\u001b[39membed \u001b[38;5;129;01mand\u001b[39;00m \u001b[38;5;28mself\u001b[39m\u001b[38;5;241m.\u001b[39mformat \u001b[38;5;129;01mnot\u001b[39;00m \u001b[38;5;129;01min\u001b[39;00m \u001b[38;5;28mself\u001b[39m\u001b[38;5;241m.\u001b[39m_ACCEPTABLE_EMBEDDINGS:\n\u001b[1;32m--> 961\u001b[0m     \u001b[38;5;28;01mraise\u001b[39;00m \u001b[38;5;167;01mValueError\u001b[39;00m(\u001b[38;5;124m\"\u001b[39m\u001b[38;5;124mCannot embed the \u001b[39m\u001b[38;5;124m'\u001b[39m\u001b[38;5;132;01m%s\u001b[39;00m\u001b[38;5;124m'\u001b[39m\u001b[38;5;124m image format\u001b[39m\u001b[38;5;124m\"\u001b[39m \u001b[38;5;241m%\u001b[39m (\u001b[38;5;28mself\u001b[39m\u001b[38;5;241m.\u001b[39mformat))\n\u001b[0;32m    962\u001b[0m \u001b[38;5;28;01mif\u001b[39;00m \u001b[38;5;28mself\u001b[39m\u001b[38;5;241m.\u001b[39membed:\n\u001b[0;32m    963\u001b[0m     \u001b[38;5;28mself\u001b[39m\u001b[38;5;241m.\u001b[39m_mimetype \u001b[38;5;241m=\u001b[39m \u001b[38;5;28mself\u001b[39m\u001b[38;5;241m.\u001b[39m_MIMETYPES\u001b[38;5;241m.\u001b[39mget(\u001b[38;5;28mself\u001b[39m\u001b[38;5;241m.\u001b[39mformat)\n",
      "\u001b[1;31mValueError\u001b[0m: Cannot embed the 'https://pro.rbc.ru/news/5c658e479a79474d32847233' image format"
     ]
    }
   ],
   "source": [
    "from IPython import display\n",
    "display.Image(\"https://pro.rbc.ru/news/5c658e479a79474d32847233\")"
   ]
  },
  {
   "cell_type": "code",
   "execution_count": null,
   "id": "45080322",
   "metadata": {},
   "outputs": [],
   "source": []
  }
 ],
 "metadata": {
  "kernelspec": {
   "display_name": "Python 3 (ipykernel)",
   "language": "python",
   "name": "python3"
  },
  "language_info": {
   "codemirror_mode": {
    "name": "ipython",
    "version": 3
   },
   "file_extension": ".py",
   "mimetype": "text/x-python",
   "name": "python",
   "nbconvert_exporter": "python",
   "pygments_lexer": "ipython3",
   "version": "3.10.9"
  }
 },
 "nbformat": 4,
 "nbformat_minor": 5
}
