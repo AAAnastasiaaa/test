{
 "cells": [
  {
   "cell_type": "markdown",
   "id": "edb60e08",
   "metadata": {},
   "source": [
    "Загрузка библиотек."
   ]
  },
  {
   "cell_type": "code",
   "execution_count": 18,
   "id": "2b123c4c",
   "metadata": {},
   "outputs": [],
   "source": [
    "import pandas as pd\n",
    "import plotly.express as px\n",
    "import requests\n",
    "from bs4 import BeautifulSoup"
   ]
  },
  {
   "cell_type": "markdown",
   "id": "1e3099af",
   "metadata": {},
   "source": [
    "Загрузка листов excel файла. "
   ]
  },
  {
   "cell_type": "code",
   "execution_count": 19,
   "id": "98bdfa6f",
   "metadata": {},
   "outputs": [],
   "source": [
    "df_articles = pd.read_excel('Аналитик данных _Тестовое задание _РБК.xlsx'\n",
    "                            , sheet_name = 'База публикаций')\n",
    "df_views = pd.read_excel('Аналитик данных _Тестовое задание _РБК.xlsx'\n",
    "                         , sheet_name = 'Выгрузка'\n",
    "                         , skiprows = lambda x: x in [0, 1])"
   ]
  },
  {
   "cell_type": "markdown",
   "id": "7e5b1c53",
   "metadata": {},
   "source": [
    "Просмотр данных, их типов, пропущенных значений."
   ]
  },
  {
   "cell_type": "code",
   "execution_count": 20,
   "id": "79aaa798",
   "metadata": {},
   "outputs": [
    {
     "data": {
      "text/html": [
       "<div>\n",
       "<style scoped>\n",
       "    .dataframe tbody tr th:only-of-type {\n",
       "        vertical-align: middle;\n",
       "    }\n",
       "\n",
       "    .dataframe tbody tr th {\n",
       "        vertical-align: top;\n",
       "    }\n",
       "\n",
       "    .dataframe thead th {\n",
       "        text-align: right;\n",
       "    }\n",
       "</style>\n",
       "<table border=\"1\" class=\"dataframe\">\n",
       "  <thead>\n",
       "    <tr style=\"text-align: right;\">\n",
       "      <th></th>\n",
       "      <th>ID публикации</th>\n",
       "      <th>Заголовок материала</th>\n",
       "      <th>URL</th>\n",
       "    </tr>\n",
       "  </thead>\n",
       "  <tbody>\n",
       "    <tr>\n",
       "      <th>0</th>\n",
       "      <td>5bf52faf9a79477da426e81b</td>\n",
       "      <td>Как обанкротиться подешевле: прагматичные наст...</td>\n",
       "      <td>https://pro.rbc.ru/news/5bf52faf9a79477da426e81b</td>\n",
       "    </tr>\n",
       "    <tr>\n",
       "      <th>1</th>\n",
       "      <td>5c04ee439a7947b3fe48fe55</td>\n",
       "      <td>Имитация тунца: как искусственная рыба вытесня...</td>\n",
       "      <td>https://pro.rbc.ru/news/5c04ee439a7947b3fe48fe55</td>\n",
       "    </tr>\n",
       "    <tr>\n",
       "      <th>2</th>\n",
       "      <td>5c04f06c9a7947b48d48fe60</td>\n",
       "      <td>Сколько россияне тратят на путешествия</td>\n",
       "      <td>https://pro.rbc.ru/news/5c04f06c9a7947b48d48fe60</td>\n",
       "    </tr>\n",
       "    <tr>\n",
       "      <th>3</th>\n",
       "      <td>5c0695d69a79472e0096479e</td>\n",
       "      <td>Самые ходовые: какие специалисты в строительст...</td>\n",
       "      <td>https://pro.rbc.ru/news/5c0695d69a79472e0096479e</td>\n",
       "    </tr>\n",
       "    <tr>\n",
       "      <th>4</th>\n",
       "      <td>5c07891f9a794775e61affd1</td>\n",
       "      <td>Как запустить новый продукт: четыре обязательн...</td>\n",
       "      <td>https://pro.rbc.ru/news/5c07891f9a794775e61affd1</td>\n",
       "    </tr>\n",
       "  </tbody>\n",
       "</table>\n",
       "</div>"
      ],
      "text/plain": [
       "              ID публикации  \\\n",
       "0  5bf52faf9a79477da426e81b   \n",
       "1  5c04ee439a7947b3fe48fe55   \n",
       "2  5c04f06c9a7947b48d48fe60   \n",
       "3  5c0695d69a79472e0096479e   \n",
       "4  5c07891f9a794775e61affd1   \n",
       "\n",
       "                                 Заголовок материала  \\\n",
       "0  Как обанкротиться подешевле: прагматичные наст...   \n",
       "1  Имитация тунца: как искусственная рыба вытесня...   \n",
       "2             Сколько россияне тратят на путешествия   \n",
       "3  Самые ходовые: какие специалисты в строительст...   \n",
       "4  Как запустить новый продукт: четыре обязательн...   \n",
       "\n",
       "                                                URL  \n",
       "0  https://pro.rbc.ru/news/5bf52faf9a79477da426e81b  \n",
       "1  https://pro.rbc.ru/news/5c04ee439a7947b3fe48fe55  \n",
       "2  https://pro.rbc.ru/news/5c04f06c9a7947b48d48fe60  \n",
       "3  https://pro.rbc.ru/news/5c0695d69a79472e0096479e  \n",
       "4  https://pro.rbc.ru/news/5c07891f9a794775e61affd1  "
      ]
     },
     "execution_count": 20,
     "metadata": {},
     "output_type": "execute_result"
    }
   ],
   "source": [
    "df_articles.head()"
   ]
  },
  {
   "cell_type": "code",
   "execution_count": 21,
   "id": "84b6b3bf",
   "metadata": {},
   "outputs": [
    {
     "name": "stdout",
     "output_type": "stream",
     "text": [
      "<class 'pandas.core.frame.DataFrame'>\n",
      "RangeIndex: 454 entries, 0 to 453\n",
      "Data columns (total 3 columns):\n",
      " #   Column               Non-Null Count  Dtype \n",
      "---  ------               --------------  ----- \n",
      " 0   ID публикации        454 non-null    object\n",
      " 1   Заголовок материала  454 non-null    object\n",
      " 2   URL                  454 non-null    object\n",
      "dtypes: object(3)\n",
      "memory usage: 10.8+ KB\n"
     ]
    }
   ],
   "source": [
    "df_articles.info()"
   ]
  },
  {
   "cell_type": "code",
   "execution_count": 22,
   "id": "b2c9c5c0",
   "metadata": {},
   "outputs": [
    {
     "data": {
      "text/plain": [
       "ID публикации          454\n",
       "Заголовок материала    454\n",
       "URL                    454\n",
       "dtype: int64"
      ]
     },
     "execution_count": 22,
     "metadata": {},
     "output_type": "execute_result"
    }
   ],
   "source": [
    "df_articles.isnull().count()"
   ]
  },
  {
   "cell_type": "code",
   "execution_count": 23,
   "id": "8b80efa7",
   "metadata": {},
   "outputs": [
    {
     "name": "stdout",
     "output_type": "stream",
     "text": [
      "<class 'pandas.core.frame.DataFrame'>\n",
      "RangeIndex: 2696 entries, 0 to 2695\n",
      "Data columns (total 2 columns):\n",
      " #   Column          Non-Null Count  Dtype \n",
      "---  ------          --------------  ----- \n",
      " 0   Адрес страницы  2696 non-null   object\n",
      " 1   Просмотры       2696 non-null   int64 \n",
      "dtypes: int64(1), object(1)\n",
      "memory usage: 42.2+ KB\n"
     ]
    }
   ],
   "source": [
    "df_views.info()"
   ]
  },
  {
   "cell_type": "code",
   "execution_count": 24,
   "id": "12380b7b",
   "metadata": {},
   "outputs": [
    {
     "data": {
      "text/html": [
       "<div>\n",
       "<style scoped>\n",
       "    .dataframe tbody tr th:only-of-type {\n",
       "        vertical-align: middle;\n",
       "    }\n",
       "\n",
       "    .dataframe tbody tr th {\n",
       "        vertical-align: top;\n",
       "    }\n",
       "\n",
       "    .dataframe thead th {\n",
       "        text-align: right;\n",
       "    }\n",
       "</style>\n",
       "<table border=\"1\" class=\"dataframe\">\n",
       "  <thead>\n",
       "    <tr style=\"text-align: right;\">\n",
       "      <th></th>\n",
       "      <th>Просмотры</th>\n",
       "    </tr>\n",
       "  </thead>\n",
       "  <tbody>\n",
       "    <tr>\n",
       "      <th>count</th>\n",
       "      <td>2696.000000</td>\n",
       "    </tr>\n",
       "    <tr>\n",
       "      <th>mean</th>\n",
       "      <td>106.040430</td>\n",
       "    </tr>\n",
       "    <tr>\n",
       "      <th>std</th>\n",
       "      <td>333.579372</td>\n",
       "    </tr>\n",
       "    <tr>\n",
       "      <th>min</th>\n",
       "      <td>1.000000</td>\n",
       "    </tr>\n",
       "    <tr>\n",
       "      <th>25%</th>\n",
       "      <td>4.000000</td>\n",
       "    </tr>\n",
       "    <tr>\n",
       "      <th>50%</th>\n",
       "      <td>11.000000</td>\n",
       "    </tr>\n",
       "    <tr>\n",
       "      <th>75%</th>\n",
       "      <td>34.250000</td>\n",
       "    </tr>\n",
       "    <tr>\n",
       "      <th>max</th>\n",
       "      <td>2849.000000</td>\n",
       "    </tr>\n",
       "  </tbody>\n",
       "</table>\n",
       "</div>"
      ],
      "text/plain": [
       "         Просмотры\n",
       "count  2696.000000\n",
       "mean    106.040430\n",
       "std     333.579372\n",
       "min       1.000000\n",
       "25%       4.000000\n",
       "50%      11.000000\n",
       "75%      34.250000\n",
       "max    2849.000000"
      ]
     },
     "execution_count": 24,
     "metadata": {},
     "output_type": "execute_result"
    }
   ],
   "source": [
    "df_views.describe()"
   ]
  },
  {
   "cell_type": "code",
   "execution_count": 25,
   "id": "e311209d",
   "metadata": {},
   "outputs": [
    {
     "data": {
      "text/plain": [
       "Адрес страницы    2696\n",
       "Просмотры         2696\n",
       "dtype: int64"
      ]
     },
     "execution_count": 25,
     "metadata": {},
     "output_type": "execute_result"
    }
   ],
   "source": [
    "df_views.isnull().count()"
   ]
  },
  {
   "cell_type": "markdown",
   "id": "b902075a",
   "metadata": {},
   "source": [
    "Типы данных верные, пропущенных значений нет."
   ]
  },
  {
   "cell_type": "markdown",
   "id": "5ba925c3",
   "metadata": {},
   "source": [
    "Исключение из списка ненужных адресов."
   ]
  },
  {
   "cell_type": "code",
   "execution_count": 26,
   "id": "bf8cbc52",
   "metadata": {},
   "outputs": [],
   "source": [
    "URL = {'test.pro',\n",
    "'test.v2.pro',\n",
    "'feature-rbcnews',\n",
    "'/preview/',\n",
    "'staging.pro',\n",
    "'staging.v2.pro'}"
   ]
  },
  {
   "cell_type": "code",
   "execution_count": 27,
   "id": "1890426c",
   "metadata": {},
   "outputs": [
    {
     "data": {
      "text/html": [
       "<div>\n",
       "<style scoped>\n",
       "    .dataframe tbody tr th:only-of-type {\n",
       "        vertical-align: middle;\n",
       "    }\n",
       "\n",
       "    .dataframe tbody tr th {\n",
       "        vertical-align: top;\n",
       "    }\n",
       "\n",
       "    .dataframe thead th {\n",
       "        text-align: right;\n",
       "    }\n",
       "</style>\n",
       "<table border=\"1\" class=\"dataframe\">\n",
       "  <thead>\n",
       "    <tr style=\"text-align: right;\">\n",
       "      <th></th>\n",
       "      <th>Адрес страницы</th>\n",
       "      <th>Просмотры</th>\n",
       "    </tr>\n",
       "  </thead>\n",
       "  <tbody>\n",
       "    <tr>\n",
       "      <th>0</th>\n",
       "      <td>https://pro.rbc.ru/news/5c4af9ed9a7947bd94fe0cc9</td>\n",
       "      <td>2849</td>\n",
       "    </tr>\n",
       "    <tr>\n",
       "      <th>1</th>\n",
       "      <td>http://pro.rbc.ru/news/5c61b2d39a794798b96fab0c</td>\n",
       "      <td>2845</td>\n",
       "    </tr>\n",
       "    <tr>\n",
       "      <th>2</th>\n",
       "      <td>https://pro.rbc.ru/news/5c6195799a79478b57ba6cf3</td>\n",
       "      <td>2819</td>\n",
       "    </tr>\n",
       "    <tr>\n",
       "      <th>3</th>\n",
       "      <td>https://pro.rbc.ru//news/5c63fbff9a7947481bf4ce1b</td>\n",
       "      <td>2736</td>\n",
       "    </tr>\n",
       "    <tr>\n",
       "      <th>4</th>\n",
       "      <td>https://pro.rbc.ru/news/5c46d39b9a7947fc20fbcce6</td>\n",
       "      <td>2704</td>\n",
       "    </tr>\n",
       "    <tr>\n",
       "      <th>...</th>\n",
       "      <td>...</td>\n",
       "      <td>...</td>\n",
       "    </tr>\n",
       "    <tr>\n",
       "      <th>2691</th>\n",
       "      <td>https://pro.rbc.ru/news/5c63fbff9a7947481bf4ce1b</td>\n",
       "      <td>1</td>\n",
       "    </tr>\n",
       "    <tr>\n",
       "      <th>2692</th>\n",
       "      <td>https://pro.rbc.ru/news/5c6297279a7947d83339d513</td>\n",
       "      <td>1</td>\n",
       "    </tr>\n",
       "    <tr>\n",
       "      <th>2693</th>\n",
       "      <td>https://pro.rbc.ru/news/5c62c45c9a7947eaedb915e4</td>\n",
       "      <td>1</td>\n",
       "    </tr>\n",
       "    <tr>\n",
       "      <th>2694</th>\n",
       "      <td>https://pro.rbc.ru/news/5c643a319a794760bbe62974</td>\n",
       "      <td>1</td>\n",
       "    </tr>\n",
       "    <tr>\n",
       "      <th>2695</th>\n",
       "      <td>https://pro.rbc.ru/news/5c24c9d79a794793915ce240</td>\n",
       "      <td>1</td>\n",
       "    </tr>\n",
       "  </tbody>\n",
       "</table>\n",
       "<p>2465 rows × 2 columns</p>\n",
       "</div>"
      ],
      "text/plain": [
       "                                         Адрес страницы  Просмотры\n",
       "0      https://pro.rbc.ru/news/5c4af9ed9a7947bd94fe0cc9       2849\n",
       "1       http://pro.rbc.ru/news/5c61b2d39a794798b96fab0c       2845\n",
       "2      https://pro.rbc.ru/news/5c6195799a79478b57ba6cf3       2819\n",
       "3     https://pro.rbc.ru//news/5c63fbff9a7947481bf4ce1b       2736\n",
       "4      https://pro.rbc.ru/news/5c46d39b9a7947fc20fbcce6       2704\n",
       "...                                                 ...        ...\n",
       "2691   https://pro.rbc.ru/news/5c63fbff9a7947481bf4ce1b          1\n",
       "2692   https://pro.rbc.ru/news/5c6297279a7947d83339d513          1\n",
       "2693   https://pro.rbc.ru/news/5c62c45c9a7947eaedb915e4          1\n",
       "2694   https://pro.rbc.ru/news/5c643a319a794760bbe62974          1\n",
       "2695   https://pro.rbc.ru/news/5c24c9d79a794793915ce240          1\n",
       "\n",
       "[2465 rows x 2 columns]"
      ]
     },
     "execution_count": 27,
     "metadata": {},
     "output_type": "execute_result"
    }
   ],
   "source": [
    "for i in URL:\n",
    "    df_views = df_views.loc[~df_views['Адрес страницы'].str.contains(i)]\n",
    "df_views"
   ]
  },
  {
   "cell_type": "markdown",
   "id": "d4c7af42",
   "metadata": {},
   "source": [
    "Группировка по адресам ссылок и подсчет общего количества просмотров, сортировка по убыванию просмотров."
   ]
  },
  {
   "cell_type": "code",
   "execution_count": 28,
   "id": "dd43574e",
   "metadata": {
    "scrolled": false
   },
   "outputs": [
    {
     "data": {
      "text/html": [
       "<div>\n",
       "<style scoped>\n",
       "    .dataframe tbody tr th:only-of-type {\n",
       "        vertical-align: middle;\n",
       "    }\n",
       "\n",
       "    .dataframe tbody tr th {\n",
       "        vertical-align: top;\n",
       "    }\n",
       "\n",
       "    .dataframe thead th {\n",
       "        text-align: right;\n",
       "    }\n",
       "</style>\n",
       "<table border=\"1\" class=\"dataframe\">\n",
       "  <thead>\n",
       "    <tr style=\"text-align: right;\">\n",
       "      <th></th>\n",
       "      <th>Адрес страницы</th>\n",
       "      <th>Просмотры</th>\n",
       "    </tr>\n",
       "  </thead>\n",
       "  <tbody>\n",
       "    <tr>\n",
       "      <th>0</th>\n",
       "      <td>https://pro.rbc.ru/news/5c658e479a79474d32847233</td>\n",
       "      <td>11320</td>\n",
       "    </tr>\n",
       "    <tr>\n",
       "      <th>1</th>\n",
       "      <td>https://pro.rbc.ru/news/5c65950d9a79474f82f780d7</td>\n",
       "      <td>7422</td>\n",
       "    </tr>\n",
       "    <tr>\n",
       "      <th>2</th>\n",
       "      <td>https://pro.rbc.ru/news/5c503adb9a794784a693903b</td>\n",
       "      <td>7044</td>\n",
       "    </tr>\n",
       "    <tr>\n",
       "      <th>3</th>\n",
       "      <td>https://pro.rbc.ru/news/5c6454df9a794769a732e049</td>\n",
       "      <td>6483</td>\n",
       "    </tr>\n",
       "    <tr>\n",
       "      <th>4</th>\n",
       "      <td>https://pro.rbc.ru/news/5c643a319a794760bbe62974</td>\n",
       "      <td>6325</td>\n",
       "    </tr>\n",
       "    <tr>\n",
       "      <th>5</th>\n",
       "      <td>https://pro.rbc.ru/news/5c6579039a794742acb7ebe3</td>\n",
       "      <td>5656</td>\n",
       "    </tr>\n",
       "    <tr>\n",
       "      <th>6</th>\n",
       "      <td>https://pro.rbc.ru/news/5c60c9fd9a794747ed04cfe2</td>\n",
       "      <td>5471</td>\n",
       "    </tr>\n",
       "    <tr>\n",
       "      <th>7</th>\n",
       "      <td>https://pro.rbc.ru//news/5c63fbff9a7947481bf4ce1b</td>\n",
       "      <td>5365</td>\n",
       "    </tr>\n",
       "    <tr>\n",
       "      <th>8</th>\n",
       "      <td>https://pro.rbc.ru/news/5c627bba9a7947cb36ac9898</td>\n",
       "      <td>5277</td>\n",
       "    </tr>\n",
       "    <tr>\n",
       "      <th>9</th>\n",
       "      <td>https://pro.rbc.ru/news/5c6195799a79478b57ba6cf3</td>\n",
       "      <td>5276</td>\n",
       "    </tr>\n",
       "    <tr>\n",
       "      <th>10</th>\n",
       "      <td>https://pro.rbc.ru/news/5c6400fa9a79474974a37aab</td>\n",
       "      <td>4857</td>\n",
       "    </tr>\n",
       "    <tr>\n",
       "      <th>11</th>\n",
       "      <td>https://pro.rbc.ru/news/5c46d39b9a7947fc20fbcce6</td>\n",
       "      <td>4451</td>\n",
       "    </tr>\n",
       "    <tr>\n",
       "      <th>12</th>\n",
       "      <td>https://pro.rbc.ru/news/5c4858c79a794777bd69e824</td>\n",
       "      <td>4443</td>\n",
       "    </tr>\n",
       "    <tr>\n",
       "      <th>13</th>\n",
       "      <td>https://pro.rbc.ru/news/5c61515a9a79476f6ed74e1b</td>\n",
       "      <td>4404</td>\n",
       "    </tr>\n",
       "    <tr>\n",
       "      <th>14</th>\n",
       "      <td>https://pro.rbc.ru/news/5c4af9ed9a7947bd94fe0cc9</td>\n",
       "      <td>4363</td>\n",
       "    </tr>\n",
       "    <tr>\n",
       "      <th>15</th>\n",
       "      <td>https://pro.rbc.ru//news/5c6585789a7947493d396dc7</td>\n",
       "      <td>4125</td>\n",
       "    </tr>\n",
       "    <tr>\n",
       "      <th>16</th>\n",
       "      <td>https://pro.rbc.ru/news/5c629c569a7947da4e9a227c</td>\n",
       "      <td>4112</td>\n",
       "    </tr>\n",
       "    <tr>\n",
       "      <th>17</th>\n",
       "      <td>https://pro.rbc.ru/news/5c62bbac9a7947e7b47f72ba</td>\n",
       "      <td>4045</td>\n",
       "    </tr>\n",
       "    <tr>\n",
       "      <th>18</th>\n",
       "      <td>https://pro.rbc.ru//news/5c65950d9a79474f82f780d7</td>\n",
       "      <td>3821</td>\n",
       "    </tr>\n",
       "    <tr>\n",
       "      <th>19</th>\n",
       "      <td>https://pro.rbc.ru/news/5c61bffb9a79479d3ee2b65c</td>\n",
       "      <td>3801</td>\n",
       "    </tr>\n",
       "  </tbody>\n",
       "</table>\n",
       "</div>"
      ],
      "text/plain": [
       "                                       Адрес страницы  Просмотры\n",
       "0    https://pro.rbc.ru/news/5c658e479a79474d32847233      11320\n",
       "1    https://pro.rbc.ru/news/5c65950d9a79474f82f780d7       7422\n",
       "2    https://pro.rbc.ru/news/5c503adb9a794784a693903b       7044\n",
       "3    https://pro.rbc.ru/news/5c6454df9a794769a732e049       6483\n",
       "4    https://pro.rbc.ru/news/5c643a319a794760bbe62974       6325\n",
       "5    https://pro.rbc.ru/news/5c6579039a794742acb7ebe3       5656\n",
       "6    https://pro.rbc.ru/news/5c60c9fd9a794747ed04cfe2       5471\n",
       "7   https://pro.rbc.ru//news/5c63fbff9a7947481bf4ce1b       5365\n",
       "8    https://pro.rbc.ru/news/5c627bba9a7947cb36ac9898       5277\n",
       "9    https://pro.rbc.ru/news/5c6195799a79478b57ba6cf3       5276\n",
       "10   https://pro.rbc.ru/news/5c6400fa9a79474974a37aab       4857\n",
       "11   https://pro.rbc.ru/news/5c46d39b9a7947fc20fbcce6       4451\n",
       "12   https://pro.rbc.ru/news/5c4858c79a794777bd69e824       4443\n",
       "13   https://pro.rbc.ru/news/5c61515a9a79476f6ed74e1b       4404\n",
       "14   https://pro.rbc.ru/news/5c4af9ed9a7947bd94fe0cc9       4363\n",
       "15  https://pro.rbc.ru//news/5c6585789a7947493d396dc7       4125\n",
       "16   https://pro.rbc.ru/news/5c629c569a7947da4e9a227c       4112\n",
       "17   https://pro.rbc.ru/news/5c62bbac9a7947e7b47f72ba       4045\n",
       "18  https://pro.rbc.ru//news/5c65950d9a79474f82f780d7       3821\n",
       "19   https://pro.rbc.ru/news/5c61bffb9a79479d3ee2b65c       3801"
      ]
     },
     "execution_count": 28,
     "metadata": {},
     "output_type": "execute_result"
    }
   ],
   "source": [
    "df_views = df_views.pivot_table(\n",
    "    values = 'Просмотры'\n",
    "    , index = 'Адрес страницы'\n",
    "    , aggfunc = 'sum'\n",
    ").sort_values('Просмотры', ascending = False).reset_index()\n",
    "df_views.head(20)"
   ]
  },
  {
   "cell_type": "markdown",
   "id": "34a36ccd",
   "metadata": {},
   "source": [
    "Соединение двух таблиц для получения общего списка с заголовками, адресами и просмотрами.  \n",
    "Сохранение 20-ти самых посещаемых."
   ]
  },
  {
   "cell_type": "code",
   "execution_count": 29,
   "id": "bdb13749",
   "metadata": {},
   "outputs": [
    {
     "data": {
      "text/html": [
       "<div>\n",
       "<style scoped>\n",
       "    .dataframe tbody tr th:only-of-type {\n",
       "        vertical-align: middle;\n",
       "    }\n",
       "\n",
       "    .dataframe tbody tr th {\n",
       "        vertical-align: top;\n",
       "    }\n",
       "\n",
       "    .dataframe thead th {\n",
       "        text-align: right;\n",
       "    }\n",
       "</style>\n",
       "<table border=\"1\" class=\"dataframe\">\n",
       "  <thead>\n",
       "    <tr style=\"text-align: right;\">\n",
       "      <th></th>\n",
       "      <th>Адрес страницы</th>\n",
       "      <th>Заголовок материала</th>\n",
       "      <th>Просмотры</th>\n",
       "    </tr>\n",
       "  </thead>\n",
       "  <tbody>\n",
       "    <tr>\n",
       "      <th>0</th>\n",
       "      <td>https://pro.rbc.ru/news/5c658e479a79474d32847233</td>\n",
       "      <td>Глава BlaBlaCar — РБК: «Мы оказывали услуги, н...</td>\n",
       "      <td>11320</td>\n",
       "    </tr>\n",
       "    <tr>\n",
       "      <th>1</th>\n",
       "      <td>https://pro.rbc.ru/news/5c65950d9a79474f82f780d7</td>\n",
       "      <td>«Алые паруса» сворачиваются: почему владельцы ...</td>\n",
       "      <td>7422</td>\n",
       "    </tr>\n",
       "    <tr>\n",
       "      <th>2</th>\n",
       "      <td>https://pro.rbc.ru/news/5c503adb9a794784a693903b</td>\n",
       "      <td>Недооцененный экспорт: что имеет смысл продава...</td>\n",
       "      <td>7044</td>\n",
       "    </tr>\n",
       "    <tr>\n",
       "      <th>3</th>\n",
       "      <td>https://pro.rbc.ru/news/5c6454df9a794769a732e049</td>\n",
       "      <td>Требования работодателя vs ожидания кандидатов...</td>\n",
       "      <td>6483</td>\n",
       "    </tr>\n",
       "    <tr>\n",
       "      <th>4</th>\n",
       "      <td>https://pro.rbc.ru/news/5c643a319a794760bbe62974</td>\n",
       "      <td>Восемь способов увеличить средний чек</td>\n",
       "      <td>6325</td>\n",
       "    </tr>\n",
       "    <tr>\n",
       "      <th>5</th>\n",
       "      <td>https://pro.rbc.ru/news/5c6579039a794742acb7ebe3</td>\n",
       "      <td>Менеджеры РФ получают дополнительное образован...</td>\n",
       "      <td>5656</td>\n",
       "    </tr>\n",
       "    <tr>\n",
       "      <th>6</th>\n",
       "      <td>https://pro.rbc.ru/news/5c60c9fd9a794747ed04cfe2</td>\n",
       "      <td>Как трансформируется логистика в ретейле: лучш...</td>\n",
       "      <td>5471</td>\n",
       "    </tr>\n",
       "    <tr>\n",
       "      <th>7</th>\n",
       "      <td>https://pro.rbc.ru//news/5c63fbff9a7947481bf4ce1b</td>\n",
       "      <td>NaN</td>\n",
       "      <td>5365</td>\n",
       "    </tr>\n",
       "    <tr>\n",
       "      <th>8</th>\n",
       "      <td>https://pro.rbc.ru/news/5c627bba9a7947cb36ac9898</td>\n",
       "      <td>Эксперты: российскому рынку кофеен можно «попр...</td>\n",
       "      <td>5277</td>\n",
       "    </tr>\n",
       "    <tr>\n",
       "      <th>9</th>\n",
       "      <td>https://pro.rbc.ru/news/5c6195799a79478b57ba6cf3</td>\n",
       "      <td>Математика российского люкса: точный портрет п...</td>\n",
       "      <td>5276</td>\n",
       "    </tr>\n",
       "    <tr>\n",
       "      <th>10</th>\n",
       "      <td>https://pro.rbc.ru/news/5c6400fa9a79474974a37aab</td>\n",
       "      <td>Россиянам все труднее платить ипотеку и покупа...</td>\n",
       "      <td>4857</td>\n",
       "    </tr>\n",
       "    <tr>\n",
       "      <th>11</th>\n",
       "      <td>https://pro.rbc.ru/news/5c46d39b9a7947fc20fbcce6</td>\n",
       "      <td>Связанные кешбэком: как ретейл зарабатывает на...</td>\n",
       "      <td>4451</td>\n",
       "    </tr>\n",
       "    <tr>\n",
       "      <th>12</th>\n",
       "      <td>https://pro.rbc.ru/news/5c4858c79a794777bd69e824</td>\n",
       "      <td>Где определенно не стоит открывать офшор</td>\n",
       "      <td>4443</td>\n",
       "    </tr>\n",
       "    <tr>\n",
       "      <th>13</th>\n",
       "      <td>https://pro.rbc.ru/news/5c61515a9a79476f6ed74e1b</td>\n",
       "      <td>Видишь, я дарю: как заработать на необычных ко...</td>\n",
       "      <td>4404</td>\n",
       "    </tr>\n",
       "    <tr>\n",
       "      <th>14</th>\n",
       "      <td>https://pro.rbc.ru/news/5c4af9ed9a7947bd94fe0cc9</td>\n",
       "      <td>Гнетущее молчание на совещании: как разрешить ...</td>\n",
       "      <td>4363</td>\n",
       "    </tr>\n",
       "    <tr>\n",
       "      <th>15</th>\n",
       "      <td>https://pro.rbc.ru//news/5c6585789a7947493d396dc7</td>\n",
       "      <td>NaN</td>\n",
       "      <td>4125</td>\n",
       "    </tr>\n",
       "    <tr>\n",
       "      <th>16</th>\n",
       "      <td>https://pro.rbc.ru/news/5c629c569a7947da4e9a227c</td>\n",
       "      <td>Бизнес на плаву: как супруги зарабатывают на м...</td>\n",
       "      <td>4112</td>\n",
       "    </tr>\n",
       "    <tr>\n",
       "      <th>17</th>\n",
       "      <td>https://pro.rbc.ru/news/5c62bbac9a7947e7b47f72ba</td>\n",
       "      <td>Золотые геймеры: почему мировой киберспорт заг...</td>\n",
       "      <td>4045</td>\n",
       "    </tr>\n",
       "    <tr>\n",
       "      <th>18</th>\n",
       "      <td>https://pro.rbc.ru//news/5c65950d9a79474f82f780d7</td>\n",
       "      <td>NaN</td>\n",
       "      <td>3821</td>\n",
       "    </tr>\n",
       "    <tr>\n",
       "      <th>19</th>\n",
       "      <td>https://pro.rbc.ru/news/5c61bffb9a79479d3ee2b65c</td>\n",
       "      <td>Эволюция промо: как участникам рынка выйти из ...</td>\n",
       "      <td>3801</td>\n",
       "    </tr>\n",
       "  </tbody>\n",
       "</table>\n",
       "</div>"
      ],
      "text/plain": [
       "                                       Адрес страницы  \\\n",
       "0    https://pro.rbc.ru/news/5c658e479a79474d32847233   \n",
       "1    https://pro.rbc.ru/news/5c65950d9a79474f82f780d7   \n",
       "2    https://pro.rbc.ru/news/5c503adb9a794784a693903b   \n",
       "3    https://pro.rbc.ru/news/5c6454df9a794769a732e049   \n",
       "4    https://pro.rbc.ru/news/5c643a319a794760bbe62974   \n",
       "5    https://pro.rbc.ru/news/5c6579039a794742acb7ebe3   \n",
       "6    https://pro.rbc.ru/news/5c60c9fd9a794747ed04cfe2   \n",
       "7   https://pro.rbc.ru//news/5c63fbff9a7947481bf4ce1b   \n",
       "8    https://pro.rbc.ru/news/5c627bba9a7947cb36ac9898   \n",
       "9    https://pro.rbc.ru/news/5c6195799a79478b57ba6cf3   \n",
       "10   https://pro.rbc.ru/news/5c6400fa9a79474974a37aab   \n",
       "11   https://pro.rbc.ru/news/5c46d39b9a7947fc20fbcce6   \n",
       "12   https://pro.rbc.ru/news/5c4858c79a794777bd69e824   \n",
       "13   https://pro.rbc.ru/news/5c61515a9a79476f6ed74e1b   \n",
       "14   https://pro.rbc.ru/news/5c4af9ed9a7947bd94fe0cc9   \n",
       "15  https://pro.rbc.ru//news/5c6585789a7947493d396dc7   \n",
       "16   https://pro.rbc.ru/news/5c629c569a7947da4e9a227c   \n",
       "17   https://pro.rbc.ru/news/5c62bbac9a7947e7b47f72ba   \n",
       "18  https://pro.rbc.ru//news/5c65950d9a79474f82f780d7   \n",
       "19   https://pro.rbc.ru/news/5c61bffb9a79479d3ee2b65c   \n",
       "\n",
       "                                  Заголовок материала  Просмотры  \n",
       "0   Глава BlaBlaCar — РБК: «Мы оказывали услуги, н...      11320  \n",
       "1   «Алые паруса» сворачиваются: почему владельцы ...       7422  \n",
       "2   Недооцененный экспорт: что имеет смысл продава...       7044  \n",
       "3   Требования работодателя vs ожидания кандидатов...       6483  \n",
       "4               Восемь способов увеличить средний чек       6325  \n",
       "5   Менеджеры РФ получают дополнительное образован...       5656  \n",
       "6   Как трансформируется логистика в ретейле: лучш...       5471  \n",
       "7                                                 NaN       5365  \n",
       "8   Эксперты: российскому рынку кофеен можно «попр...       5277  \n",
       "9   Математика российского люкса: точный портрет п...       5276  \n",
       "10  Россиянам все труднее платить ипотеку и покупа...       4857  \n",
       "11  Связанные кешбэком: как ретейл зарабатывает на...       4451  \n",
       "12           Где определенно не стоит открывать офшор       4443  \n",
       "13  Видишь, я дарю: как заработать на необычных ко...       4404  \n",
       "14  Гнетущее молчание на совещании: как разрешить ...       4363  \n",
       "15                                                NaN       4125  \n",
       "16  Бизнес на плаву: как супруги зарабатывают на м...       4112  \n",
       "17  Золотые геймеры: почему мировой киберспорт заг...       4045  \n",
       "18                                                NaN       3821  \n",
       "19  Эволюция промо: как участникам рынка выйти из ...       3801  "
      ]
     },
     "execution_count": 29,
     "metadata": {},
     "output_type": "execute_result"
    }
   ],
   "source": [
    "df_20 = df_views.merge(df_articles, how = 'left', left_on = 'Адрес страницы', right_on = 'URL')\\\n",
    "[['Адрес страницы', 'Заголовок материала', 'Просмотры']].head(20)\n",
    "df_20"
   ]
  },
  {
   "cell_type": "markdown",
   "id": "a2d6911c",
   "metadata": {},
   "source": [
    "К некоторым ссылкам нет заголовков на странице 'База публикаций'.  \n",
    "Можно найти заголовки на страницах по ссылкам и добавить."
   ]
  },
  {
   "cell_type": "code",
   "execution_count": 30,
   "id": "5656baa2",
   "metadata": {},
   "outputs": [],
   "source": [
    "def find_title_by_url(URL):\n",
    "    return BeautifulSoup(requests.get(URL).text, 'lxml').find('h1').text.strip()"
   ]
  },
  {
   "cell_type": "code",
   "execution_count": 31,
   "id": "210c412e",
   "metadata": {},
   "outputs": [
    {
     "data": {
      "text/html": [
       "<div>\n",
       "<style scoped>\n",
       "    .dataframe tbody tr th:only-of-type {\n",
       "        vertical-align: middle;\n",
       "    }\n",
       "\n",
       "    .dataframe tbody tr th {\n",
       "        vertical-align: top;\n",
       "    }\n",
       "\n",
       "    .dataframe thead th {\n",
       "        text-align: right;\n",
       "    }\n",
       "</style>\n",
       "<table border=\"1\" class=\"dataframe\">\n",
       "  <thead>\n",
       "    <tr style=\"text-align: right;\">\n",
       "      <th></th>\n",
       "      <th>Адрес страницы</th>\n",
       "      <th>Заголовок материала</th>\n",
       "      <th>Просмотры</th>\n",
       "    </tr>\n",
       "  </thead>\n",
       "  <tbody>\n",
       "    <tr>\n",
       "      <th>0</th>\n",
       "      <td>https://pro.rbc.ru/news/5c658e479a79474d32847233</td>\n",
       "      <td>Глава BlaBlaCar — РБК: «Мы оказывали услуги, н...</td>\n",
       "      <td>11320</td>\n",
       "    </tr>\n",
       "    <tr>\n",
       "      <th>1</th>\n",
       "      <td>https://pro.rbc.ru/news/5c65950d9a79474f82f780d7</td>\n",
       "      <td>«Алые паруса» сворачиваются: почему владельцы ...</td>\n",
       "      <td>7422</td>\n",
       "    </tr>\n",
       "    <tr>\n",
       "      <th>2</th>\n",
       "      <td>https://pro.rbc.ru/news/5c503adb9a794784a693903b</td>\n",
       "      <td>Недооцененный экспорт: что имеет смысл продава...</td>\n",
       "      <td>7044</td>\n",
       "    </tr>\n",
       "    <tr>\n",
       "      <th>3</th>\n",
       "      <td>https://pro.rbc.ru/news/5c6454df9a794769a732e049</td>\n",
       "      <td>Требования работодателя vs ожидания кандидатов...</td>\n",
       "      <td>6483</td>\n",
       "    </tr>\n",
       "    <tr>\n",
       "      <th>4</th>\n",
       "      <td>https://pro.rbc.ru/news/5c643a319a794760bbe62974</td>\n",
       "      <td>Восемь способов увеличить средний чек</td>\n",
       "      <td>6325</td>\n",
       "    </tr>\n",
       "    <tr>\n",
       "      <th>5</th>\n",
       "      <td>https://pro.rbc.ru/news/5c6579039a794742acb7ebe3</td>\n",
       "      <td>Менеджеры РФ получают дополнительное образован...</td>\n",
       "      <td>5656</td>\n",
       "    </tr>\n",
       "    <tr>\n",
       "      <th>6</th>\n",
       "      <td>https://pro.rbc.ru/news/5c60c9fd9a794747ed04cfe2</td>\n",
       "      <td>Как трансформируется логистика в ретейле: лучш...</td>\n",
       "      <td>5471</td>\n",
       "    </tr>\n",
       "    <tr>\n",
       "      <th>7</th>\n",
       "      <td>https://pro.rbc.ru//news/5c63fbff9a7947481bf4ce1b</td>\n",
       "      <td>Кедры решают все: как вывести косметику на аме...</td>\n",
       "      <td>5365</td>\n",
       "    </tr>\n",
       "    <tr>\n",
       "      <th>8</th>\n",
       "      <td>https://pro.rbc.ru/news/5c627bba9a7947cb36ac9898</td>\n",
       "      <td>Эксперты: российскому рынку кофеен можно «попр...</td>\n",
       "      <td>5277</td>\n",
       "    </tr>\n",
       "    <tr>\n",
       "      <th>9</th>\n",
       "      <td>https://pro.rbc.ru/news/5c6195799a79478b57ba6cf3</td>\n",
       "      <td>Математика российского люкса: точный портрет п...</td>\n",
       "      <td>5276</td>\n",
       "    </tr>\n",
       "    <tr>\n",
       "      <th>10</th>\n",
       "      <td>https://pro.rbc.ru/news/5c6400fa9a79474974a37aab</td>\n",
       "      <td>Россиянам все труднее платить ипотеку и покупа...</td>\n",
       "      <td>4857</td>\n",
       "    </tr>\n",
       "    <tr>\n",
       "      <th>11</th>\n",
       "      <td>https://pro.rbc.ru/news/5c46d39b9a7947fc20fbcce6</td>\n",
       "      <td>Связанные кешбэком: как ретейл зарабатывает на...</td>\n",
       "      <td>4451</td>\n",
       "    </tr>\n",
       "    <tr>\n",
       "      <th>12</th>\n",
       "      <td>https://pro.rbc.ru/news/5c4858c79a794777bd69e824</td>\n",
       "      <td>Где определенно не стоит открывать офшор</td>\n",
       "      <td>4443</td>\n",
       "    </tr>\n",
       "    <tr>\n",
       "      <th>13</th>\n",
       "      <td>https://pro.rbc.ru/news/5c61515a9a79476f6ed74e1b</td>\n",
       "      <td>Видишь, я дарю: как заработать на необычных ко...</td>\n",
       "      <td>4404</td>\n",
       "    </tr>\n",
       "    <tr>\n",
       "      <th>14</th>\n",
       "      <td>https://pro.rbc.ru/news/5c4af9ed9a7947bd94fe0cc9</td>\n",
       "      <td>Гнетущее молчание на совещании: как разрешить ...</td>\n",
       "      <td>4363</td>\n",
       "    </tr>\n",
       "    <tr>\n",
       "      <th>15</th>\n",
       "      <td>https://pro.rbc.ru//news/5c6585789a7947493d396dc7</td>\n",
       "      <td>Как потребителей заставили платить больше: чет...</td>\n",
       "      <td>4125</td>\n",
       "    </tr>\n",
       "    <tr>\n",
       "      <th>16</th>\n",
       "      <td>https://pro.rbc.ru/news/5c629c569a7947da4e9a227c</td>\n",
       "      <td>Бизнес на плаву: как супруги зарабатывают на м...</td>\n",
       "      <td>4112</td>\n",
       "    </tr>\n",
       "    <tr>\n",
       "      <th>17</th>\n",
       "      <td>https://pro.rbc.ru/news/5c62bbac9a7947e7b47f72ba</td>\n",
       "      <td>Золотые геймеры: почему мировой киберспорт заг...</td>\n",
       "      <td>4045</td>\n",
       "    </tr>\n",
       "    <tr>\n",
       "      <th>18</th>\n",
       "      <td>https://pro.rbc.ru//news/5c65950d9a79474f82f780d7</td>\n",
       "      <td>«Алые паруса» сворачиваются: почему владельцы ...</td>\n",
       "      <td>3821</td>\n",
       "    </tr>\n",
       "    <tr>\n",
       "      <th>19</th>\n",
       "      <td>https://pro.rbc.ru/news/5c61bffb9a79479d3ee2b65c</td>\n",
       "      <td>Эволюция промо: как участникам рынка выйти из ...</td>\n",
       "      <td>3801</td>\n",
       "    </tr>\n",
       "  </tbody>\n",
       "</table>\n",
       "</div>"
      ],
      "text/plain": [
       "                                       Адрес страницы  \\\n",
       "0    https://pro.rbc.ru/news/5c658e479a79474d32847233   \n",
       "1    https://pro.rbc.ru/news/5c65950d9a79474f82f780d7   \n",
       "2    https://pro.rbc.ru/news/5c503adb9a794784a693903b   \n",
       "3    https://pro.rbc.ru/news/5c6454df9a794769a732e049   \n",
       "4    https://pro.rbc.ru/news/5c643a319a794760bbe62974   \n",
       "5    https://pro.rbc.ru/news/5c6579039a794742acb7ebe3   \n",
       "6    https://pro.rbc.ru/news/5c60c9fd9a794747ed04cfe2   \n",
       "7   https://pro.rbc.ru//news/5c63fbff9a7947481bf4ce1b   \n",
       "8    https://pro.rbc.ru/news/5c627bba9a7947cb36ac9898   \n",
       "9    https://pro.rbc.ru/news/5c6195799a79478b57ba6cf3   \n",
       "10   https://pro.rbc.ru/news/5c6400fa9a79474974a37aab   \n",
       "11   https://pro.rbc.ru/news/5c46d39b9a7947fc20fbcce6   \n",
       "12   https://pro.rbc.ru/news/5c4858c79a794777bd69e824   \n",
       "13   https://pro.rbc.ru/news/5c61515a9a79476f6ed74e1b   \n",
       "14   https://pro.rbc.ru/news/5c4af9ed9a7947bd94fe0cc9   \n",
       "15  https://pro.rbc.ru//news/5c6585789a7947493d396dc7   \n",
       "16   https://pro.rbc.ru/news/5c629c569a7947da4e9a227c   \n",
       "17   https://pro.rbc.ru/news/5c62bbac9a7947e7b47f72ba   \n",
       "18  https://pro.rbc.ru//news/5c65950d9a79474f82f780d7   \n",
       "19   https://pro.rbc.ru/news/5c61bffb9a79479d3ee2b65c   \n",
       "\n",
       "                                  Заголовок материала  Просмотры  \n",
       "0   Глава BlaBlaCar — РБК: «Мы оказывали услуги, н...      11320  \n",
       "1   «Алые паруса» сворачиваются: почему владельцы ...       7422  \n",
       "2   Недооцененный экспорт: что имеет смысл продава...       7044  \n",
       "3   Требования работодателя vs ожидания кандидатов...       6483  \n",
       "4               Восемь способов увеличить средний чек       6325  \n",
       "5   Менеджеры РФ получают дополнительное образован...       5656  \n",
       "6   Как трансформируется логистика в ретейле: лучш...       5471  \n",
       "7   Кедры решают все: как вывести косметику на аме...       5365  \n",
       "8   Эксперты: российскому рынку кофеен можно «попр...       5277  \n",
       "9   Математика российского люкса: точный портрет п...       5276  \n",
       "10  Россиянам все труднее платить ипотеку и покупа...       4857  \n",
       "11  Связанные кешбэком: как ретейл зарабатывает на...       4451  \n",
       "12           Где определенно не стоит открывать офшор       4443  \n",
       "13  Видишь, я дарю: как заработать на необычных ко...       4404  \n",
       "14  Гнетущее молчание на совещании: как разрешить ...       4363  \n",
       "15  Как потребителей заставили платить больше: чет...       4125  \n",
       "16  Бизнес на плаву: как супруги зарабатывают на м...       4112  \n",
       "17  Золотые геймеры: почему мировой киберспорт заг...       4045  \n",
       "18  «Алые паруса» сворачиваются: почему владельцы ...       3821  \n",
       "19  Эволюция промо: как участникам рынка выйти из ...       3801  "
      ]
     },
     "execution_count": 31,
     "metadata": {},
     "output_type": "execute_result"
    }
   ],
   "source": [
    "df_20['Заголовок материала'].fillna(df_20['Адрес страницы'].apply(find_title_by_url), inplace=True)\n",
    "df_20 = df_20[['Адрес страницы', 'Заголовок материала', 'Просмотры']]\n",
    "df_20"
   ]
  },
  {
   "cell_type": "markdown",
   "id": "e026f569",
   "metadata": {},
   "source": [
    "Добавление столбца с кликабельными ссылками."
   ]
  },
  {
   "cell_type": "code",
   "execution_count": 32,
   "id": "324900b2",
   "metadata": {},
   "outputs": [],
   "source": [
    "def make_clickable(URL, name):\n",
    "    return f'<a href=\"{URL}\" target=\"_blank\">{name}</a>'"
   ]
  },
  {
   "cell_type": "code",
   "execution_count": 33,
   "id": "b52be84b",
   "metadata": {},
   "outputs": [
    {
     "data": {
      "text/html": [
       "<style type=\"text/css\">\n",
       "</style>\n",
       "<table id=\"T_2f043\">\n",
       "  <thead>\n",
       "    <tr>\n",
       "      <th id=\"T_2f043_level0_col0\" class=\"col_heading level0 col0\" >ТОП 20</th>\n",
       "    </tr>\n",
       "  </thead>\n",
       "  <tbody>\n",
       "    <tr>\n",
       "      <td id=\"T_2f043_row0_col0\" class=\"data row0 col0\" ><a href=\"https://pro.rbc.ru/news/5c658e479a79474d32847233\" target=\"_blank\">Глава BlaBlaCar — РБК: «Мы оказывали услуги, но ничего не зарабатывали»</a></td>\n",
       "    </tr>\n",
       "    <tr>\n",
       "      <td id=\"T_2f043_row1_col0\" class=\"data row1 col0\" ><a href=\"https://pro.rbc.ru/news/5c65950d9a79474f82f780d7\" target=\"_blank\">«Алые паруса» сворачиваются: почему владельцы сети выходят из бизнеса</a></td>\n",
       "    </tr>\n",
       "    <tr>\n",
       "      <td id=\"T_2f043_row2_col0\" class=\"data row2 col0\" ><a href=\"https://pro.rbc.ru/news/5c503adb9a794784a693903b\" target=\"_blank\">Недооцененный экспорт: что имеет смысл продавать за рубеж</a></td>\n",
       "    </tr>\n",
       "    <tr>\n",
       "      <td id=\"T_2f043_row3_col0\" class=\"data row3 col0\" ><a href=\"https://pro.rbc.ru/news/5c6454df9a794769a732e049\" target=\"_blank\">Требования работодателя vs ожидания кандидатов в ТЭКе — 2019</a></td>\n",
       "    </tr>\n",
       "    <tr>\n",
       "      <td id=\"T_2f043_row4_col0\" class=\"data row4 col0\" ><a href=\"https://pro.rbc.ru/news/5c643a319a794760bbe62974\" target=\"_blank\">Восемь способов увеличить средний чек</a></td>\n",
       "    </tr>\n",
       "    <tr>\n",
       "      <td id=\"T_2f043_row5_col0\" class=\"data row5 col0\" ><a href=\"https://pro.rbc.ru/news/5c6579039a794742acb7ebe3\" target=\"_blank\">Менеджеры РФ получают дополнительное образование в основном за свой счет</a></td>\n",
       "    </tr>\n",
       "    <tr>\n",
       "      <td id=\"T_2f043_row6_col0\" class=\"data row6 col0\" ><a href=\"https://pro.rbc.ru/news/5c60c9fd9a794747ed04cfe2\" target=\"_blank\">Как трансформируется логистика в ретейле: лучшие практики</a></td>\n",
       "    </tr>\n",
       "    <tr>\n",
       "      <td id=\"T_2f043_row7_col0\" class=\"data row7 col0\" ><a href=\"https://pro.rbc.ru//news/5c63fbff9a7947481bf4ce1b\" target=\"_blank\">Кедры решают все: как вывести косметику на американский рынок</a></td>\n",
       "    </tr>\n",
       "    <tr>\n",
       "      <td id=\"T_2f043_row8_col0\" class=\"data row8 col0\" ><a href=\"https://pro.rbc.ru/news/5c627bba9a7947cb36ac9898\" target=\"_blank\">Эксперты: российскому рынку кофеен можно «поправиться» на 870 млрд руб.</a></td>\n",
       "    </tr>\n",
       "    <tr>\n",
       "      <td id=\"T_2f043_row9_col0\" class=\"data row9 col0\" ><a href=\"https://pro.rbc.ru/news/5c6195799a79478b57ba6cf3\" target=\"_blank\">Математика российского люкса: точный портрет покупателя предметов роскоши</a></td>\n",
       "    </tr>\n",
       "    <tr>\n",
       "      <td id=\"T_2f043_row10_col0\" class=\"data row10 col0\" ><a href=\"https://pro.rbc.ru/news/5c6400fa9a79474974a37aab\" target=\"_blank\">Россиянам все труднее платить ипотеку и покупать жилье</a></td>\n",
       "    </tr>\n",
       "    <tr>\n",
       "      <td id=\"T_2f043_row11_col0\" class=\"data row11 col0\" ><a href=\"https://pro.rbc.ru/news/5c46d39b9a7947fc20fbcce6\" target=\"_blank\">Связанные кешбэком: как ретейл зарабатывает на возврате денег с покупок</a></td>\n",
       "    </tr>\n",
       "    <tr>\n",
       "      <td id=\"T_2f043_row12_col0\" class=\"data row12 col0\" ><a href=\"https://pro.rbc.ru/news/5c4858c79a794777bd69e824\" target=\"_blank\">Где определенно не стоит открывать офшор</a></td>\n",
       "    </tr>\n",
       "    <tr>\n",
       "      <td id=\"T_2f043_row13_col0\" class=\"data row13 col0\" ><a href=\"https://pro.rbc.ru/news/5c61515a9a79476f6ed74e1b\" target=\"_blank\">Видишь, я дарю: как заработать на необычных корпоративных подарках</a></td>\n",
       "    </tr>\n",
       "    <tr>\n",
       "      <td id=\"T_2f043_row14_col0\" class=\"data row14 col0\" ><a href=\"https://pro.rbc.ru/news/5c4af9ed9a7947bd94fe0cc9\" target=\"_blank\">Гнетущее молчание на совещании: как разрешить скрытый конфликт в команде</a></td>\n",
       "    </tr>\n",
       "    <tr>\n",
       "      <td id=\"T_2f043_row15_col0\" class=\"data row15 col0\" ><a href=\"https://pro.rbc.ru//news/5c6585789a7947493d396dc7\" target=\"_blank\">Как потребителей заставили платить больше: четыре кейса</a></td>\n",
       "    </tr>\n",
       "    <tr>\n",
       "      <td id=\"T_2f043_row16_col0\" class=\"data row16 col0\" ><a href=\"https://pro.rbc.ru/news/5c629c569a7947da4e9a227c\" target=\"_blank\">Бизнес на плаву: как супруги зарабатывают на мебели из старых лодок</a></td>\n",
       "    </tr>\n",
       "    <tr>\n",
       "      <td id=\"T_2f043_row17_col0\" class=\"data row17 col0\" ><a href=\"https://pro.rbc.ru/news/5c62bbac9a7947e7b47f72ba\" target=\"_blank\">Золотые геймеры: почему мировой киберспорт заговорил по-русски</a></td>\n",
       "    </tr>\n",
       "    <tr>\n",
       "      <td id=\"T_2f043_row18_col0\" class=\"data row18 col0\" ><a href=\"https://pro.rbc.ru//news/5c65950d9a79474f82f780d7\" target=\"_blank\">«Алые паруса» сворачиваются: почему владельцы сети выходят из бизнеса</a></td>\n",
       "    </tr>\n",
       "    <tr>\n",
       "      <td id=\"T_2f043_row19_col0\" class=\"data row19 col0\" ><a href=\"https://pro.rbc.ru/news/5c61bffb9a79479d3ee2b65c\" target=\"_blank\">Эволюция промо: как участникам рынка выйти из ловушки скидок</a></td>\n",
       "    </tr>\n",
       "  </tbody>\n",
       "</table>\n"
      ],
      "text/plain": [
       "<pandas.io.formats.style.Styler at 0x20286c673d0>"
      ]
     },
     "execution_count": 33,
     "metadata": {},
     "output_type": "execute_result"
    }
   ],
   "source": [
    "pd.options.mode.chained_assignment = None\n",
    "df_20['ТОП 20'] = df_20.apply(lambda x: make_clickable(x['Адрес страницы'], x['Заголовок материала']), axis = 1)\n",
    "df_20[['ТОП 20']].style.hide(axis=\"index\").format({'url': make_clickable})"
   ]
  },
  {
   "cell_type": "markdown",
   "id": "dc6de75f",
   "metadata": {},
   "source": [
    "Визуализация результата.  \n",
    "ТОП-20 самых посещаемых страниц с кликабельными ссылками и столбчатой диаграммой, отображающей количество посещений."
   ]
  },
  {
   "cell_type": "code",
   "execution_count": 34,
   "id": "018dd212",
   "metadata": {},
   "outputs": [
    {
     "data": {
      "application/vnd.plotly.v1+json": {
       "config": {
        "plotlyServerURL": "https://plot.ly"
       },
       "data": [
        {
         "alignmentgroup": "True",
         "hovertemplate": "Просмотры=%{x}<br>ТОП 20=%{y}<extra></extra>",
         "legendgroup": "",
         "marker": {
          "color": "#636efa",
          "pattern": {
           "shape": ""
          }
         },
         "name": "",
         "offsetgroup": "",
         "orientation": "h",
         "showlegend": false,
         "textposition": "auto",
         "texttemplate": "%{x}",
         "type": "bar",
         "x": [
          3801,
          3821,
          4045,
          4112,
          4125,
          4363,
          4404,
          4443,
          4451,
          4857,
          5276,
          5277,
          5365,
          5471,
          5656,
          6325,
          6483,
          7044,
          7422,
          11320
         ],
         "xaxis": "x",
         "y": [
          "<a href=\"https://pro.rbc.ru/news/5c61bffb9a79479d3ee2b65c\" target=\"_blank\">Эволюция промо: как участникам рынка выйти из ловушки скидок</a>",
          "<a href=\"https://pro.rbc.ru//news/5c65950d9a79474f82f780d7\" target=\"_blank\">«Алые паруса» сворачиваются: почему владельцы сети выходят из бизнеса</a>",
          "<a href=\"https://pro.rbc.ru/news/5c62bbac9a7947e7b47f72ba\" target=\"_blank\">Золотые геймеры: почему мировой киберспорт заговорил по-русски</a>",
          "<a href=\"https://pro.rbc.ru/news/5c629c569a7947da4e9a227c\" target=\"_blank\">Бизнес на плаву: как супруги зарабатывают на мебели из старых лодок</a>",
          "<a href=\"https://pro.rbc.ru//news/5c6585789a7947493d396dc7\" target=\"_blank\">Как потребителей заставили платить больше: четыре кейса</a>",
          "<a href=\"https://pro.rbc.ru/news/5c4af9ed9a7947bd94fe0cc9\" target=\"_blank\">Гнетущее молчание на совещании: как разрешить скрытый конфликт в команде</a>",
          "<a href=\"https://pro.rbc.ru/news/5c61515a9a79476f6ed74e1b\" target=\"_blank\">Видишь, я дарю: как заработать на необычных корпоративных подарках</a>",
          "<a href=\"https://pro.rbc.ru/news/5c4858c79a794777bd69e824\" target=\"_blank\">Где определенно не стоит открывать офшор</a>",
          "<a href=\"https://pro.rbc.ru/news/5c46d39b9a7947fc20fbcce6\" target=\"_blank\">Связанные кешбэком: как ретейл зарабатывает на возврате денег с покупок</a>",
          "<a href=\"https://pro.rbc.ru/news/5c6400fa9a79474974a37aab\" target=\"_blank\">Россиянам все труднее платить ипотеку и покупать жилье</a>",
          "<a href=\"https://pro.rbc.ru/news/5c6195799a79478b57ba6cf3\" target=\"_blank\">Математика российского люкса: точный портрет покупателя предметов роскоши</a>",
          "<a href=\"https://pro.rbc.ru/news/5c627bba9a7947cb36ac9898\" target=\"_blank\">Эксперты: российскому рынку кофеен можно «поправиться» на 870 млрд руб.</a>",
          "<a href=\"https://pro.rbc.ru//news/5c63fbff9a7947481bf4ce1b\" target=\"_blank\">Кедры решают все: как вывести косметику на американский рынок</a>",
          "<a href=\"https://pro.rbc.ru/news/5c60c9fd9a794747ed04cfe2\" target=\"_blank\">Как трансформируется логистика в ретейле: лучшие практики</a>",
          "<a href=\"https://pro.rbc.ru/news/5c6579039a794742acb7ebe3\" target=\"_blank\">Менеджеры РФ получают дополнительное образование в основном за свой счет</a>",
          "<a href=\"https://pro.rbc.ru/news/5c643a319a794760bbe62974\" target=\"_blank\">Восемь способов увеличить средний чек</a>",
          "<a href=\"https://pro.rbc.ru/news/5c6454df9a794769a732e049\" target=\"_blank\">Требования работодателя vs ожидания кандидатов в ТЭКе — 2019</a>",
          "<a href=\"https://pro.rbc.ru/news/5c503adb9a794784a693903b\" target=\"_blank\">Недооцененный экспорт: что имеет смысл продавать за рубеж</a>",
          "<a href=\"https://pro.rbc.ru/news/5c65950d9a79474f82f780d7\" target=\"_blank\">«Алые паруса» сворачиваются: почему владельцы сети выходят из бизнеса</a>",
          "<a href=\"https://pro.rbc.ru/news/5c658e479a79474d32847233\" target=\"_blank\">Глава BlaBlaCar — РБК: «Мы оказывали услуги, но ничего не зарабатывали»</a>"
         ],
         "yaxis": "y"
        }
       ],
       "layout": {
        "barmode": "relative",
        "legend": {
         "tracegroupgap": 0
        },
        "margin": {
         "t": 60
        },
        "template": {
         "data": {
          "bar": [
           {
            "error_x": {
             "color": "#2a3f5f"
            },
            "error_y": {
             "color": "#2a3f5f"
            },
            "marker": {
             "line": {
              "color": "#E5ECF6",
              "width": 0.5
             },
             "pattern": {
              "fillmode": "overlay",
              "size": 10,
              "solidity": 0.2
             }
            },
            "type": "bar"
           }
          ],
          "barpolar": [
           {
            "marker": {
             "line": {
              "color": "#E5ECF6",
              "width": 0.5
             },
             "pattern": {
              "fillmode": "overlay",
              "size": 10,
              "solidity": 0.2
             }
            },
            "type": "barpolar"
           }
          ],
          "carpet": [
           {
            "aaxis": {
             "endlinecolor": "#2a3f5f",
             "gridcolor": "white",
             "linecolor": "white",
             "minorgridcolor": "white",
             "startlinecolor": "#2a3f5f"
            },
            "baxis": {
             "endlinecolor": "#2a3f5f",
             "gridcolor": "white",
             "linecolor": "white",
             "minorgridcolor": "white",
             "startlinecolor": "#2a3f5f"
            },
            "type": "carpet"
           }
          ],
          "choropleth": [
           {
            "colorbar": {
             "outlinewidth": 0,
             "ticks": ""
            },
            "type": "choropleth"
           }
          ],
          "contour": [
           {
            "colorbar": {
             "outlinewidth": 0,
             "ticks": ""
            },
            "colorscale": [
             [
              0,
              "#0d0887"
             ],
             [
              0.1111111111111111,
              "#46039f"
             ],
             [
              0.2222222222222222,
              "#7201a8"
             ],
             [
              0.3333333333333333,
              "#9c179e"
             ],
             [
              0.4444444444444444,
              "#bd3786"
             ],
             [
              0.5555555555555556,
              "#d8576b"
             ],
             [
              0.6666666666666666,
              "#ed7953"
             ],
             [
              0.7777777777777778,
              "#fb9f3a"
             ],
             [
              0.8888888888888888,
              "#fdca26"
             ],
             [
              1,
              "#f0f921"
             ]
            ],
            "type": "contour"
           }
          ],
          "contourcarpet": [
           {
            "colorbar": {
             "outlinewidth": 0,
             "ticks": ""
            },
            "type": "contourcarpet"
           }
          ],
          "heatmap": [
           {
            "colorbar": {
             "outlinewidth": 0,
             "ticks": ""
            },
            "colorscale": [
             [
              0,
              "#0d0887"
             ],
             [
              0.1111111111111111,
              "#46039f"
             ],
             [
              0.2222222222222222,
              "#7201a8"
             ],
             [
              0.3333333333333333,
              "#9c179e"
             ],
             [
              0.4444444444444444,
              "#bd3786"
             ],
             [
              0.5555555555555556,
              "#d8576b"
             ],
             [
              0.6666666666666666,
              "#ed7953"
             ],
             [
              0.7777777777777778,
              "#fb9f3a"
             ],
             [
              0.8888888888888888,
              "#fdca26"
             ],
             [
              1,
              "#f0f921"
             ]
            ],
            "type": "heatmap"
           }
          ],
          "heatmapgl": [
           {
            "colorbar": {
             "outlinewidth": 0,
             "ticks": ""
            },
            "colorscale": [
             [
              0,
              "#0d0887"
             ],
             [
              0.1111111111111111,
              "#46039f"
             ],
             [
              0.2222222222222222,
              "#7201a8"
             ],
             [
              0.3333333333333333,
              "#9c179e"
             ],
             [
              0.4444444444444444,
              "#bd3786"
             ],
             [
              0.5555555555555556,
              "#d8576b"
             ],
             [
              0.6666666666666666,
              "#ed7953"
             ],
             [
              0.7777777777777778,
              "#fb9f3a"
             ],
             [
              0.8888888888888888,
              "#fdca26"
             ],
             [
              1,
              "#f0f921"
             ]
            ],
            "type": "heatmapgl"
           }
          ],
          "histogram": [
           {
            "marker": {
             "pattern": {
              "fillmode": "overlay",
              "size": 10,
              "solidity": 0.2
             }
            },
            "type": "histogram"
           }
          ],
          "histogram2d": [
           {
            "colorbar": {
             "outlinewidth": 0,
             "ticks": ""
            },
            "colorscale": [
             [
              0,
              "#0d0887"
             ],
             [
              0.1111111111111111,
              "#46039f"
             ],
             [
              0.2222222222222222,
              "#7201a8"
             ],
             [
              0.3333333333333333,
              "#9c179e"
             ],
             [
              0.4444444444444444,
              "#bd3786"
             ],
             [
              0.5555555555555556,
              "#d8576b"
             ],
             [
              0.6666666666666666,
              "#ed7953"
             ],
             [
              0.7777777777777778,
              "#fb9f3a"
             ],
             [
              0.8888888888888888,
              "#fdca26"
             ],
             [
              1,
              "#f0f921"
             ]
            ],
            "type": "histogram2d"
           }
          ],
          "histogram2dcontour": [
           {
            "colorbar": {
             "outlinewidth": 0,
             "ticks": ""
            },
            "colorscale": [
             [
              0,
              "#0d0887"
             ],
             [
              0.1111111111111111,
              "#46039f"
             ],
             [
              0.2222222222222222,
              "#7201a8"
             ],
             [
              0.3333333333333333,
              "#9c179e"
             ],
             [
              0.4444444444444444,
              "#bd3786"
             ],
             [
              0.5555555555555556,
              "#d8576b"
             ],
             [
              0.6666666666666666,
              "#ed7953"
             ],
             [
              0.7777777777777778,
              "#fb9f3a"
             ],
             [
              0.8888888888888888,
              "#fdca26"
             ],
             [
              1,
              "#f0f921"
             ]
            ],
            "type": "histogram2dcontour"
           }
          ],
          "mesh3d": [
           {
            "colorbar": {
             "outlinewidth": 0,
             "ticks": ""
            },
            "type": "mesh3d"
           }
          ],
          "parcoords": [
           {
            "line": {
             "colorbar": {
              "outlinewidth": 0,
              "ticks": ""
             }
            },
            "type": "parcoords"
           }
          ],
          "pie": [
           {
            "automargin": true,
            "type": "pie"
           }
          ],
          "scatter": [
           {
            "fillpattern": {
             "fillmode": "overlay",
             "size": 10,
             "solidity": 0.2
            },
            "type": "scatter"
           }
          ],
          "scatter3d": [
           {
            "line": {
             "colorbar": {
              "outlinewidth": 0,
              "ticks": ""
             }
            },
            "marker": {
             "colorbar": {
              "outlinewidth": 0,
              "ticks": ""
             }
            },
            "type": "scatter3d"
           }
          ],
          "scattercarpet": [
           {
            "marker": {
             "colorbar": {
              "outlinewidth": 0,
              "ticks": ""
             }
            },
            "type": "scattercarpet"
           }
          ],
          "scattergeo": [
           {
            "marker": {
             "colorbar": {
              "outlinewidth": 0,
              "ticks": ""
             }
            },
            "type": "scattergeo"
           }
          ],
          "scattergl": [
           {
            "marker": {
             "colorbar": {
              "outlinewidth": 0,
              "ticks": ""
             }
            },
            "type": "scattergl"
           }
          ],
          "scattermapbox": [
           {
            "marker": {
             "colorbar": {
              "outlinewidth": 0,
              "ticks": ""
             }
            },
            "type": "scattermapbox"
           }
          ],
          "scatterpolar": [
           {
            "marker": {
             "colorbar": {
              "outlinewidth": 0,
              "ticks": ""
             }
            },
            "type": "scatterpolar"
           }
          ],
          "scatterpolargl": [
           {
            "marker": {
             "colorbar": {
              "outlinewidth": 0,
              "ticks": ""
             }
            },
            "type": "scatterpolargl"
           }
          ],
          "scatterternary": [
           {
            "marker": {
             "colorbar": {
              "outlinewidth": 0,
              "ticks": ""
             }
            },
            "type": "scatterternary"
           }
          ],
          "surface": [
           {
            "colorbar": {
             "outlinewidth": 0,
             "ticks": ""
            },
            "colorscale": [
             [
              0,
              "#0d0887"
             ],
             [
              0.1111111111111111,
              "#46039f"
             ],
             [
              0.2222222222222222,
              "#7201a8"
             ],
             [
              0.3333333333333333,
              "#9c179e"
             ],
             [
              0.4444444444444444,
              "#bd3786"
             ],
             [
              0.5555555555555556,
              "#d8576b"
             ],
             [
              0.6666666666666666,
              "#ed7953"
             ],
             [
              0.7777777777777778,
              "#fb9f3a"
             ],
             [
              0.8888888888888888,
              "#fdca26"
             ],
             [
              1,
              "#f0f921"
             ]
            ],
            "type": "surface"
           }
          ],
          "table": [
           {
            "cells": {
             "fill": {
              "color": "#EBF0F8"
             },
             "line": {
              "color": "white"
             }
            },
            "header": {
             "fill": {
              "color": "#C8D4E3"
             },
             "line": {
              "color": "white"
             }
            },
            "type": "table"
           }
          ]
         },
         "layout": {
          "annotationdefaults": {
           "arrowcolor": "#2a3f5f",
           "arrowhead": 0,
           "arrowwidth": 1
          },
          "autotypenumbers": "strict",
          "coloraxis": {
           "colorbar": {
            "outlinewidth": 0,
            "ticks": ""
           }
          },
          "colorscale": {
           "diverging": [
            [
             0,
             "#8e0152"
            ],
            [
             0.1,
             "#c51b7d"
            ],
            [
             0.2,
             "#de77ae"
            ],
            [
             0.3,
             "#f1b6da"
            ],
            [
             0.4,
             "#fde0ef"
            ],
            [
             0.5,
             "#f7f7f7"
            ],
            [
             0.6,
             "#e6f5d0"
            ],
            [
             0.7,
             "#b8e186"
            ],
            [
             0.8,
             "#7fbc41"
            ],
            [
             0.9,
             "#4d9221"
            ],
            [
             1,
             "#276419"
            ]
           ],
           "sequential": [
            [
             0,
             "#0d0887"
            ],
            [
             0.1111111111111111,
             "#46039f"
            ],
            [
             0.2222222222222222,
             "#7201a8"
            ],
            [
             0.3333333333333333,
             "#9c179e"
            ],
            [
             0.4444444444444444,
             "#bd3786"
            ],
            [
             0.5555555555555556,
             "#d8576b"
            ],
            [
             0.6666666666666666,
             "#ed7953"
            ],
            [
             0.7777777777777778,
             "#fb9f3a"
            ],
            [
             0.8888888888888888,
             "#fdca26"
            ],
            [
             1,
             "#f0f921"
            ]
           ],
           "sequentialminus": [
            [
             0,
             "#0d0887"
            ],
            [
             0.1111111111111111,
             "#46039f"
            ],
            [
             0.2222222222222222,
             "#7201a8"
            ],
            [
             0.3333333333333333,
             "#9c179e"
            ],
            [
             0.4444444444444444,
             "#bd3786"
            ],
            [
             0.5555555555555556,
             "#d8576b"
            ],
            [
             0.6666666666666666,
             "#ed7953"
            ],
            [
             0.7777777777777778,
             "#fb9f3a"
            ],
            [
             0.8888888888888888,
             "#fdca26"
            ],
            [
             1,
             "#f0f921"
            ]
           ]
          },
          "colorway": [
           "#636efa",
           "#EF553B",
           "#00cc96",
           "#ab63fa",
           "#FFA15A",
           "#19d3f3",
           "#FF6692",
           "#B6E880",
           "#FF97FF",
           "#FECB52"
          ],
          "font": {
           "color": "#2a3f5f"
          },
          "geo": {
           "bgcolor": "white",
           "lakecolor": "white",
           "landcolor": "#E5ECF6",
           "showlakes": true,
           "showland": true,
           "subunitcolor": "white"
          },
          "hoverlabel": {
           "align": "left"
          },
          "hovermode": "closest",
          "mapbox": {
           "style": "light"
          },
          "paper_bgcolor": "white",
          "plot_bgcolor": "#E5ECF6",
          "polar": {
           "angularaxis": {
            "gridcolor": "white",
            "linecolor": "white",
            "ticks": ""
           },
           "bgcolor": "#E5ECF6",
           "radialaxis": {
            "gridcolor": "white",
            "linecolor": "white",
            "ticks": ""
           }
          },
          "scene": {
           "xaxis": {
            "backgroundcolor": "#E5ECF6",
            "gridcolor": "white",
            "gridwidth": 2,
            "linecolor": "white",
            "showbackground": true,
            "ticks": "",
            "zerolinecolor": "white"
           },
           "yaxis": {
            "backgroundcolor": "#E5ECF6",
            "gridcolor": "white",
            "gridwidth": 2,
            "linecolor": "white",
            "showbackground": true,
            "ticks": "",
            "zerolinecolor": "white"
           },
           "zaxis": {
            "backgroundcolor": "#E5ECF6",
            "gridcolor": "white",
            "gridwidth": 2,
            "linecolor": "white",
            "showbackground": true,
            "ticks": "",
            "zerolinecolor": "white"
           }
          },
          "shapedefaults": {
           "line": {
            "color": "#2a3f5f"
           }
          },
          "ternary": {
           "aaxis": {
            "gridcolor": "white",
            "linecolor": "white",
            "ticks": ""
           },
           "baxis": {
            "gridcolor": "white",
            "linecolor": "white",
            "ticks": ""
           },
           "bgcolor": "#E5ECF6",
           "caxis": {
            "gridcolor": "white",
            "linecolor": "white",
            "ticks": ""
           }
          },
          "title": {
           "x": 0.05
          },
          "xaxis": {
           "automargin": true,
           "gridcolor": "white",
           "linecolor": "white",
           "ticks": "",
           "title": {
            "standoff": 15
           },
           "zerolinecolor": "white",
           "zerolinewidth": 2
          },
          "yaxis": {
           "automargin": true,
           "gridcolor": "white",
           "linecolor": "white",
           "ticks": "",
           "title": {
            "standoff": 15
           },
           "zerolinecolor": "white",
           "zerolinewidth": 2
          }
         }
        },
        "xaxis": {
         "anchor": "y",
         "domain": [
          0,
          1
         ],
         "title": {
          "text": "Просмотры"
         }
        },
        "yaxis": {
         "anchor": "x",
         "domain": [
          0,
          1
         ],
         "title": {
          "text": "ТОП 20"
         }
        }
       }
      },
      "text/html": [
       "<div>                            <div id=\"ed4664e7-0078-4d60-9969-05d9cfa0d79f\" class=\"plotly-graph-div\" style=\"height:525px; width:100%;\"></div>            <script type=\"text/javascript\">                require([\"plotly\"], function(Plotly) {                    window.PLOTLYENV=window.PLOTLYENV || {};                                    if (document.getElementById(\"ed4664e7-0078-4d60-9969-05d9cfa0d79f\")) {                    Plotly.newPlot(                        \"ed4664e7-0078-4d60-9969-05d9cfa0d79f\",                        [{\"alignmentgroup\":\"True\",\"hovertemplate\":\"\\u041f\\u0440\\u043e\\u0441\\u043c\\u043e\\u0442\\u0440\\u044b=%{x}<br>\\u0422\\u041e\\u041f 20=%{y}<extra></extra>\",\"legendgroup\":\"\",\"marker\":{\"color\":\"#636efa\",\"pattern\":{\"shape\":\"\"}},\"name\":\"\",\"offsetgroup\":\"\",\"orientation\":\"h\",\"showlegend\":false,\"textposition\":\"auto\",\"texttemplate\":\"%{x}\",\"x\":[3801,3821,4045,4112,4125,4363,4404,4443,4451,4857,5276,5277,5365,5471,5656,6325,6483,7044,7422,11320],\"xaxis\":\"x\",\"y\":[\"<a href=\\\"https://pro.rbc.ru/news/5c61bffb9a79479d3ee2b65c\\\" target=\\\"_blank\\\">\\u042d\\u0432\\u043e\\u043b\\u044e\\u0446\\u0438\\u044f \\u043f\\u0440\\u043e\\u043c\\u043e: \\u043a\\u0430\\u043a \\u0443\\u0447\\u0430\\u0441\\u0442\\u043d\\u0438\\u043a\\u0430\\u043c \\u0440\\u044b\\u043d\\u043a\\u0430 \\u0432\\u044b\\u0439\\u0442\\u0438 \\u0438\\u0437 \\u043b\\u043e\\u0432\\u0443\\u0448\\u043a\\u0438 \\u0441\\u043a\\u0438\\u0434\\u043e\\u043a</a>\",\"<a href=\\\"https://pro.rbc.ru//news/5c65950d9a79474f82f780d7\\\" target=\\\"_blank\\\">\\u00ab\\u0410\\u043b\\u044b\\u0435 \\u043f\\u0430\\u0440\\u0443\\u0441\\u0430\\u00bb \\u0441\\u0432\\u043e\\u0440\\u0430\\u0447\\u0438\\u0432\\u0430\\u044e\\u0442\\u0441\\u044f: \\u043f\\u043e\\u0447\\u0435\\u043c\\u0443 \\u0432\\u043b\\u0430\\u0434\\u0435\\u043b\\u044c\\u0446\\u044b \\u0441\\u0435\\u0442\\u0438 \\u0432\\u044b\\u0445\\u043e\\u0434\\u044f\\u0442 \\u0438\\u0437 \\u0431\\u0438\\u0437\\u043d\\u0435\\u0441\\u0430</a>\",\"<a href=\\\"https://pro.rbc.ru/news/5c62bbac9a7947e7b47f72ba\\\" target=\\\"_blank\\\">\\u0417\\u043e\\u043b\\u043e\\u0442\\u044b\\u0435 \\u0433\\u0435\\u0439\\u043c\\u0435\\u0440\\u044b: \\u043f\\u043e\\u0447\\u0435\\u043c\\u0443 \\u043c\\u0438\\u0440\\u043e\\u0432\\u043e\\u0439 \\u043a\\u0438\\u0431\\u0435\\u0440\\u0441\\u043f\\u043e\\u0440\\u0442 \\u0437\\u0430\\u0433\\u043e\\u0432\\u043e\\u0440\\u0438\\u043b \\u043f\\u043e-\\u0440\\u0443\\u0441\\u0441\\u043a\\u0438</a>\",\"<a href=\\\"https://pro.rbc.ru/news/5c629c569a7947da4e9a227c\\\" target=\\\"_blank\\\">\\u0411\\u0438\\u0437\\u043d\\u0435\\u0441 \\u043d\\u0430 \\u043f\\u043b\\u0430\\u0432\\u0443: \\u043a\\u0430\\u043a \\u0441\\u0443\\u043f\\u0440\\u0443\\u0433\\u0438 \\u0437\\u0430\\u0440\\u0430\\u0431\\u0430\\u0442\\u044b\\u0432\\u0430\\u044e\\u0442 \\u043d\\u0430 \\u043c\\u0435\\u0431\\u0435\\u043b\\u0438 \\u0438\\u0437 \\u0441\\u0442\\u0430\\u0440\\u044b\\u0445 \\u043b\\u043e\\u0434\\u043e\\u043a</a>\",\"<a href=\\\"https://pro.rbc.ru//news/5c6585789a7947493d396dc7\\\" target=\\\"_blank\\\">\\u041a\\u0430\\u043a \\u043f\\u043e\\u0442\\u0440\\u0435\\u0431\\u0438\\u0442\\u0435\\u043b\\u0435\\u0439 \\u0437\\u0430\\u0441\\u0442\\u0430\\u0432\\u0438\\u043b\\u0438 \\u043f\\u043b\\u0430\\u0442\\u0438\\u0442\\u044c \\u0431\\u043e\\u043b\\u044c\\u0448\\u0435: \\u0447\\u0435\\u0442\\u044b\\u0440\\u0435 \\u043a\\u0435\\u0439\\u0441\\u0430</a>\",\"<a href=\\\"https://pro.rbc.ru/news/5c4af9ed9a7947bd94fe0cc9\\\" target=\\\"_blank\\\">\\u0413\\u043d\\u0435\\u0442\\u0443\\u0449\\u0435\\u0435 \\u043c\\u043e\\u043b\\u0447\\u0430\\u043d\\u0438\\u0435 \\u043d\\u0430 \\u0441\\u043e\\u0432\\u0435\\u0449\\u0430\\u043d\\u0438\\u0438: \\u043a\\u0430\\u043a \\u0440\\u0430\\u0437\\u0440\\u0435\\u0448\\u0438\\u0442\\u044c \\u0441\\u043a\\u0440\\u044b\\u0442\\u044b\\u0439 \\u043a\\u043e\\u043d\\u0444\\u043b\\u0438\\u043a\\u0442 \\u0432 \\u043a\\u043e\\u043c\\u0430\\u043d\\u0434\\u0435</a>\",\"<a href=\\\"https://pro.rbc.ru/news/5c61515a9a79476f6ed74e1b\\\" target=\\\"_blank\\\">\\u0412\\u0438\\u0434\\u0438\\u0448\\u044c, \\u044f \\u0434\\u0430\\u0440\\u044e: \\u043a\\u0430\\u043a \\u0437\\u0430\\u0440\\u0430\\u0431\\u043e\\u0442\\u0430\\u0442\\u044c \\u043d\\u0430 \\u043d\\u0435\\u043e\\u0431\\u044b\\u0447\\u043d\\u044b\\u0445 \\u043a\\u043e\\u0440\\u043f\\u043e\\u0440\\u0430\\u0442\\u0438\\u0432\\u043d\\u044b\\u0445 \\u043f\\u043e\\u0434\\u0430\\u0440\\u043a\\u0430\\u0445</a>\",\"<a href=\\\"https://pro.rbc.ru/news/5c4858c79a794777bd69e824\\\" target=\\\"_blank\\\">\\u0413\\u0434\\u0435 \\u043e\\u043f\\u0440\\u0435\\u0434\\u0435\\u043b\\u0435\\u043d\\u043d\\u043e \\u043d\\u0435 \\u0441\\u0442\\u043e\\u0438\\u0442 \\u043e\\u0442\\u043a\\u0440\\u044b\\u0432\\u0430\\u0442\\u044c \\u043e\\u0444\\u0448\\u043e\\u0440</a>\",\"<a href=\\\"https://pro.rbc.ru/news/5c46d39b9a7947fc20fbcce6\\\" target=\\\"_blank\\\">\\u0421\\u0432\\u044f\\u0437\\u0430\\u043d\\u043d\\u044b\\u0435 \\u043a\\u0435\\u0448\\u0431\\u044d\\u043a\\u043e\\u043c: \\u043a\\u0430\\u043a \\u0440\\u0435\\u0442\\u0435\\u0439\\u043b \\u0437\\u0430\\u0440\\u0430\\u0431\\u0430\\u0442\\u044b\\u0432\\u0430\\u0435\\u0442 \\u043d\\u0430 \\u0432\\u043e\\u0437\\u0432\\u0440\\u0430\\u0442\\u0435 \\u0434\\u0435\\u043d\\u0435\\u0433 \\u0441 \\u043f\\u043e\\u043a\\u0443\\u043f\\u043e\\u043a</a>\",\"<a href=\\\"https://pro.rbc.ru/news/5c6400fa9a79474974a37aab\\\" target=\\\"_blank\\\">\\u0420\\u043e\\u0441\\u0441\\u0438\\u044f\\u043d\\u0430\\u043c \\u0432\\u0441\\u0435 \\u0442\\u0440\\u0443\\u0434\\u043d\\u0435\\u0435 \\u043f\\u043b\\u0430\\u0442\\u0438\\u0442\\u044c \\u0438\\u043f\\u043e\\u0442\\u0435\\u043a\\u0443 \\u0438 \\u043f\\u043e\\u043a\\u0443\\u043f\\u0430\\u0442\\u044c \\u0436\\u0438\\u043b\\u044c\\u0435</a>\",\"<a href=\\\"https://pro.rbc.ru/news/5c6195799a79478b57ba6cf3\\\" target=\\\"_blank\\\">\\u041c\\u0430\\u0442\\u0435\\u043c\\u0430\\u0442\\u0438\\u043a\\u0430 \\u0440\\u043e\\u0441\\u0441\\u0438\\u0439\\u0441\\u043a\\u043e\\u0433\\u043e \\u043b\\u044e\\u043a\\u0441\\u0430: \\u0442\\u043e\\u0447\\u043d\\u044b\\u0439 \\u043f\\u043e\\u0440\\u0442\\u0440\\u0435\\u0442 \\u043f\\u043e\\u043a\\u0443\\u043f\\u0430\\u0442\\u0435\\u043b\\u044f \\u043f\\u0440\\u0435\\u0434\\u043c\\u0435\\u0442\\u043e\\u0432 \\u0440\\u043e\\u0441\\u043a\\u043e\\u0448\\u0438</a>\",\"<a href=\\\"https://pro.rbc.ru/news/5c627bba9a7947cb36ac9898\\\" target=\\\"_blank\\\">\\u042d\\u043a\\u0441\\u043f\\u0435\\u0440\\u0442\\u044b: \\u0440\\u043e\\u0441\\u0441\\u0438\\u0439\\u0441\\u043a\\u043e\\u043c\\u0443 \\u0440\\u044b\\u043d\\u043a\\u0443 \\u043a\\u043e\\u0444\\u0435\\u0435\\u043d \\u043c\\u043e\\u0436\\u043d\\u043e \\u00ab\\u043f\\u043e\\u043f\\u0440\\u0430\\u0432\\u0438\\u0442\\u044c\\u0441\\u044f\\u00bb \\u043d\\u0430 870 \\u043c\\u043b\\u0440\\u0434 \\u0440\\u0443\\u0431.</a>\",\"<a href=\\\"https://pro.rbc.ru//news/5c63fbff9a7947481bf4ce1b\\\" target=\\\"_blank\\\">\\u041a\\u0435\\u0434\\u0440\\u044b \\u0440\\u0435\\u0448\\u0430\\u044e\\u0442 \\u0432\\u0441\\u0435: \\u043a\\u0430\\u043a \\u0432\\u044b\\u0432\\u0435\\u0441\\u0442\\u0438 \\u043a\\u043e\\u0441\\u043c\\u0435\\u0442\\u0438\\u043a\\u0443 \\u043d\\u0430 \\u0430\\u043c\\u0435\\u0440\\u0438\\u043a\\u0430\\u043d\\u0441\\u043a\\u0438\\u0439 \\u0440\\u044b\\u043d\\u043e\\u043a</a>\",\"<a href=\\\"https://pro.rbc.ru/news/5c60c9fd9a794747ed04cfe2\\\" target=\\\"_blank\\\">\\u041a\\u0430\\u043a \\u0442\\u0440\\u0430\\u043d\\u0441\\u0444\\u043e\\u0440\\u043c\\u0438\\u0440\\u0443\\u0435\\u0442\\u0441\\u044f \\u043b\\u043e\\u0433\\u0438\\u0441\\u0442\\u0438\\u043a\\u0430 \\u0432 \\u0440\\u0435\\u0442\\u0435\\u0439\\u043b\\u0435: \\u043b\\u0443\\u0447\\u0448\\u0438\\u0435 \\u043f\\u0440\\u0430\\u043a\\u0442\\u0438\\u043a\\u0438</a>\",\"<a href=\\\"https://pro.rbc.ru/news/5c6579039a794742acb7ebe3\\\" target=\\\"_blank\\\">\\u041c\\u0435\\u043d\\u0435\\u0434\\u0436\\u0435\\u0440\\u044b \\u0420\\u0424 \\u043f\\u043e\\u043b\\u0443\\u0447\\u0430\\u044e\\u0442 \\u0434\\u043e\\u043f\\u043e\\u043b\\u043d\\u0438\\u0442\\u0435\\u043b\\u044c\\u043d\\u043e\\u0435 \\u043e\\u0431\\u0440\\u0430\\u0437\\u043e\\u0432\\u0430\\u043d\\u0438\\u0435 \\u0432 \\u043e\\u0441\\u043d\\u043e\\u0432\\u043d\\u043e\\u043c \\u0437\\u0430 \\u0441\\u0432\\u043e\\u0439 \\u0441\\u0447\\u0435\\u0442</a>\",\"<a href=\\\"https://pro.rbc.ru/news/5c643a319a794760bbe62974\\\" target=\\\"_blank\\\">\\u0412\\u043e\\u0441\\u0435\\u043c\\u044c \\u0441\\u043f\\u043e\\u0441\\u043e\\u0431\\u043e\\u0432 \\u0443\\u0432\\u0435\\u043b\\u0438\\u0447\\u0438\\u0442\\u044c \\u0441\\u0440\\u0435\\u0434\\u043d\\u0438\\u0439 \\u0447\\u0435\\u043a</a>\",\"<a href=\\\"https://pro.rbc.ru/news/5c6454df9a794769a732e049\\\" target=\\\"_blank\\\">\\u0422\\u0440\\u0435\\u0431\\u043e\\u0432\\u0430\\u043d\\u0438\\u044f \\u0440\\u0430\\u0431\\u043e\\u0442\\u043e\\u0434\\u0430\\u0442\\u0435\\u043b\\u044f vs \\u043e\\u0436\\u0438\\u0434\\u0430\\u043d\\u0438\\u044f \\u043a\\u0430\\u043d\\u0434\\u0438\\u0434\\u0430\\u0442\\u043e\\u0432 \\u0432 \\u0422\\u042d\\u041a\\u0435\\u00a0\\u2014 2019</a>\",\"<a href=\\\"https://pro.rbc.ru/news/5c503adb9a794784a693903b\\\" target=\\\"_blank\\\">\\u041d\\u0435\\u0434\\u043e\\u043e\\u0446\\u0435\\u043d\\u0435\\u043d\\u043d\\u044b\\u0439 \\u044d\\u043a\\u0441\\u043f\\u043e\\u0440\\u0442: \\u0447\\u0442\\u043e \\u0438\\u043c\\u0435\\u0435\\u0442 \\u0441\\u043c\\u044b\\u0441\\u043b \\u043f\\u0440\\u043e\\u0434\\u0430\\u0432\\u0430\\u0442\\u044c \\u0437\\u0430 \\u0440\\u0443\\u0431\\u0435\\u0436</a>\",\"<a href=\\\"https://pro.rbc.ru/news/5c65950d9a79474f82f780d7\\\" target=\\\"_blank\\\">\\u00ab\\u0410\\u043b\\u044b\\u0435 \\u043f\\u0430\\u0440\\u0443\\u0441\\u0430\\u00bb \\u0441\\u0432\\u043e\\u0440\\u0430\\u0447\\u0438\\u0432\\u0430\\u044e\\u0442\\u0441\\u044f: \\u043f\\u043e\\u0447\\u0435\\u043c\\u0443 \\u0432\\u043b\\u0430\\u0434\\u0435\\u043b\\u044c\\u0446\\u044b \\u0441\\u0435\\u0442\\u0438 \\u0432\\u044b\\u0445\\u043e\\u0434\\u044f\\u0442 \\u0438\\u0437 \\u0431\\u0438\\u0437\\u043d\\u0435\\u0441\\u0430</a>\",\"<a href=\\\"https://pro.rbc.ru/news/5c658e479a79474d32847233\\\" target=\\\"_blank\\\">\\u0413\\u043b\\u0430\\u0432\\u0430 BlaBlaCar\\u00a0\\u2014 \\u0420\\u0411\\u041a: \\u00ab\\u041c\\u044b \\u043e\\u043a\\u0430\\u0437\\u044b\\u0432\\u0430\\u043b\\u0438 \\u0443\\u0441\\u043b\\u0443\\u0433\\u0438, \\u043d\\u043e \\u043d\\u0438\\u0447\\u0435\\u0433\\u043e \\u043d\\u0435 \\u0437\\u0430\\u0440\\u0430\\u0431\\u0430\\u0442\\u044b\\u0432\\u0430\\u043b\\u0438\\u00bb</a>\"],\"yaxis\":\"y\",\"type\":\"bar\"}],                        {\"template\":{\"data\":{\"histogram2dcontour\":[{\"type\":\"histogram2dcontour\",\"colorbar\":{\"outlinewidth\":0,\"ticks\":\"\"},\"colorscale\":[[0.0,\"#0d0887\"],[0.1111111111111111,\"#46039f\"],[0.2222222222222222,\"#7201a8\"],[0.3333333333333333,\"#9c179e\"],[0.4444444444444444,\"#bd3786\"],[0.5555555555555556,\"#d8576b\"],[0.6666666666666666,\"#ed7953\"],[0.7777777777777778,\"#fb9f3a\"],[0.8888888888888888,\"#fdca26\"],[1.0,\"#f0f921\"]]}],\"choropleth\":[{\"type\":\"choropleth\",\"colorbar\":{\"outlinewidth\":0,\"ticks\":\"\"}}],\"histogram2d\":[{\"type\":\"histogram2d\",\"colorbar\":{\"outlinewidth\":0,\"ticks\":\"\"},\"colorscale\":[[0.0,\"#0d0887\"],[0.1111111111111111,\"#46039f\"],[0.2222222222222222,\"#7201a8\"],[0.3333333333333333,\"#9c179e\"],[0.4444444444444444,\"#bd3786\"],[0.5555555555555556,\"#d8576b\"],[0.6666666666666666,\"#ed7953\"],[0.7777777777777778,\"#fb9f3a\"],[0.8888888888888888,\"#fdca26\"],[1.0,\"#f0f921\"]]}],\"heatmap\":[{\"type\":\"heatmap\",\"colorbar\":{\"outlinewidth\":0,\"ticks\":\"\"},\"colorscale\":[[0.0,\"#0d0887\"],[0.1111111111111111,\"#46039f\"],[0.2222222222222222,\"#7201a8\"],[0.3333333333333333,\"#9c179e\"],[0.4444444444444444,\"#bd3786\"],[0.5555555555555556,\"#d8576b\"],[0.6666666666666666,\"#ed7953\"],[0.7777777777777778,\"#fb9f3a\"],[0.8888888888888888,\"#fdca26\"],[1.0,\"#f0f921\"]]}],\"heatmapgl\":[{\"type\":\"heatmapgl\",\"colorbar\":{\"outlinewidth\":0,\"ticks\":\"\"},\"colorscale\":[[0.0,\"#0d0887\"],[0.1111111111111111,\"#46039f\"],[0.2222222222222222,\"#7201a8\"],[0.3333333333333333,\"#9c179e\"],[0.4444444444444444,\"#bd3786\"],[0.5555555555555556,\"#d8576b\"],[0.6666666666666666,\"#ed7953\"],[0.7777777777777778,\"#fb9f3a\"],[0.8888888888888888,\"#fdca26\"],[1.0,\"#f0f921\"]]}],\"contourcarpet\":[{\"type\":\"contourcarpet\",\"colorbar\":{\"outlinewidth\":0,\"ticks\":\"\"}}],\"contour\":[{\"type\":\"contour\",\"colorbar\":{\"outlinewidth\":0,\"ticks\":\"\"},\"colorscale\":[[0.0,\"#0d0887\"],[0.1111111111111111,\"#46039f\"],[0.2222222222222222,\"#7201a8\"],[0.3333333333333333,\"#9c179e\"],[0.4444444444444444,\"#bd3786\"],[0.5555555555555556,\"#d8576b\"],[0.6666666666666666,\"#ed7953\"],[0.7777777777777778,\"#fb9f3a\"],[0.8888888888888888,\"#fdca26\"],[1.0,\"#f0f921\"]]}],\"surface\":[{\"type\":\"surface\",\"colorbar\":{\"outlinewidth\":0,\"ticks\":\"\"},\"colorscale\":[[0.0,\"#0d0887\"],[0.1111111111111111,\"#46039f\"],[0.2222222222222222,\"#7201a8\"],[0.3333333333333333,\"#9c179e\"],[0.4444444444444444,\"#bd3786\"],[0.5555555555555556,\"#d8576b\"],[0.6666666666666666,\"#ed7953\"],[0.7777777777777778,\"#fb9f3a\"],[0.8888888888888888,\"#fdca26\"],[1.0,\"#f0f921\"]]}],\"mesh3d\":[{\"type\":\"mesh3d\",\"colorbar\":{\"outlinewidth\":0,\"ticks\":\"\"}}],\"scatter\":[{\"fillpattern\":{\"fillmode\":\"overlay\",\"size\":10,\"solidity\":0.2},\"type\":\"scatter\"}],\"parcoords\":[{\"type\":\"parcoords\",\"line\":{\"colorbar\":{\"outlinewidth\":0,\"ticks\":\"\"}}}],\"scatterpolargl\":[{\"type\":\"scatterpolargl\",\"marker\":{\"colorbar\":{\"outlinewidth\":0,\"ticks\":\"\"}}}],\"bar\":[{\"error_x\":{\"color\":\"#2a3f5f\"},\"error_y\":{\"color\":\"#2a3f5f\"},\"marker\":{\"line\":{\"color\":\"#E5ECF6\",\"width\":0.5},\"pattern\":{\"fillmode\":\"overlay\",\"size\":10,\"solidity\":0.2}},\"type\":\"bar\"}],\"scattergeo\":[{\"type\":\"scattergeo\",\"marker\":{\"colorbar\":{\"outlinewidth\":0,\"ticks\":\"\"}}}],\"scatterpolar\":[{\"type\":\"scatterpolar\",\"marker\":{\"colorbar\":{\"outlinewidth\":0,\"ticks\":\"\"}}}],\"histogram\":[{\"marker\":{\"pattern\":{\"fillmode\":\"overlay\",\"size\":10,\"solidity\":0.2}},\"type\":\"histogram\"}],\"scattergl\":[{\"type\":\"scattergl\",\"marker\":{\"colorbar\":{\"outlinewidth\":0,\"ticks\":\"\"}}}],\"scatter3d\":[{\"type\":\"scatter3d\",\"line\":{\"colorbar\":{\"outlinewidth\":0,\"ticks\":\"\"}},\"marker\":{\"colorbar\":{\"outlinewidth\":0,\"ticks\":\"\"}}}],\"scattermapbox\":[{\"type\":\"scattermapbox\",\"marker\":{\"colorbar\":{\"outlinewidth\":0,\"ticks\":\"\"}}}],\"scatterternary\":[{\"type\":\"scatterternary\",\"marker\":{\"colorbar\":{\"outlinewidth\":0,\"ticks\":\"\"}}}],\"scattercarpet\":[{\"type\":\"scattercarpet\",\"marker\":{\"colorbar\":{\"outlinewidth\":0,\"ticks\":\"\"}}}],\"carpet\":[{\"aaxis\":{\"endlinecolor\":\"#2a3f5f\",\"gridcolor\":\"white\",\"linecolor\":\"white\",\"minorgridcolor\":\"white\",\"startlinecolor\":\"#2a3f5f\"},\"baxis\":{\"endlinecolor\":\"#2a3f5f\",\"gridcolor\":\"white\",\"linecolor\":\"white\",\"minorgridcolor\":\"white\",\"startlinecolor\":\"#2a3f5f\"},\"type\":\"carpet\"}],\"table\":[{\"cells\":{\"fill\":{\"color\":\"#EBF0F8\"},\"line\":{\"color\":\"white\"}},\"header\":{\"fill\":{\"color\":\"#C8D4E3\"},\"line\":{\"color\":\"white\"}},\"type\":\"table\"}],\"barpolar\":[{\"marker\":{\"line\":{\"color\":\"#E5ECF6\",\"width\":0.5},\"pattern\":{\"fillmode\":\"overlay\",\"size\":10,\"solidity\":0.2}},\"type\":\"barpolar\"}],\"pie\":[{\"automargin\":true,\"type\":\"pie\"}]},\"layout\":{\"autotypenumbers\":\"strict\",\"colorway\":[\"#636efa\",\"#EF553B\",\"#00cc96\",\"#ab63fa\",\"#FFA15A\",\"#19d3f3\",\"#FF6692\",\"#B6E880\",\"#FF97FF\",\"#FECB52\"],\"font\":{\"color\":\"#2a3f5f\"},\"hovermode\":\"closest\",\"hoverlabel\":{\"align\":\"left\"},\"paper_bgcolor\":\"white\",\"plot_bgcolor\":\"#E5ECF6\",\"polar\":{\"bgcolor\":\"#E5ECF6\",\"angularaxis\":{\"gridcolor\":\"white\",\"linecolor\":\"white\",\"ticks\":\"\"},\"radialaxis\":{\"gridcolor\":\"white\",\"linecolor\":\"white\",\"ticks\":\"\"}},\"ternary\":{\"bgcolor\":\"#E5ECF6\",\"aaxis\":{\"gridcolor\":\"white\",\"linecolor\":\"white\",\"ticks\":\"\"},\"baxis\":{\"gridcolor\":\"white\",\"linecolor\":\"white\",\"ticks\":\"\"},\"caxis\":{\"gridcolor\":\"white\",\"linecolor\":\"white\",\"ticks\":\"\"}},\"coloraxis\":{\"colorbar\":{\"outlinewidth\":0,\"ticks\":\"\"}},\"colorscale\":{\"sequential\":[[0.0,\"#0d0887\"],[0.1111111111111111,\"#46039f\"],[0.2222222222222222,\"#7201a8\"],[0.3333333333333333,\"#9c179e\"],[0.4444444444444444,\"#bd3786\"],[0.5555555555555556,\"#d8576b\"],[0.6666666666666666,\"#ed7953\"],[0.7777777777777778,\"#fb9f3a\"],[0.8888888888888888,\"#fdca26\"],[1.0,\"#f0f921\"]],\"sequentialminus\":[[0.0,\"#0d0887\"],[0.1111111111111111,\"#46039f\"],[0.2222222222222222,\"#7201a8\"],[0.3333333333333333,\"#9c179e\"],[0.4444444444444444,\"#bd3786\"],[0.5555555555555556,\"#d8576b\"],[0.6666666666666666,\"#ed7953\"],[0.7777777777777778,\"#fb9f3a\"],[0.8888888888888888,\"#fdca26\"],[1.0,\"#f0f921\"]],\"diverging\":[[0,\"#8e0152\"],[0.1,\"#c51b7d\"],[0.2,\"#de77ae\"],[0.3,\"#f1b6da\"],[0.4,\"#fde0ef\"],[0.5,\"#f7f7f7\"],[0.6,\"#e6f5d0\"],[0.7,\"#b8e186\"],[0.8,\"#7fbc41\"],[0.9,\"#4d9221\"],[1,\"#276419\"]]},\"xaxis\":{\"gridcolor\":\"white\",\"linecolor\":\"white\",\"ticks\":\"\",\"title\":{\"standoff\":15},\"zerolinecolor\":\"white\",\"automargin\":true,\"zerolinewidth\":2},\"yaxis\":{\"gridcolor\":\"white\",\"linecolor\":\"white\",\"ticks\":\"\",\"title\":{\"standoff\":15},\"zerolinecolor\":\"white\",\"automargin\":true,\"zerolinewidth\":2},\"scene\":{\"xaxis\":{\"backgroundcolor\":\"#E5ECF6\",\"gridcolor\":\"white\",\"linecolor\":\"white\",\"showbackground\":true,\"ticks\":\"\",\"zerolinecolor\":\"white\",\"gridwidth\":2},\"yaxis\":{\"backgroundcolor\":\"#E5ECF6\",\"gridcolor\":\"white\",\"linecolor\":\"white\",\"showbackground\":true,\"ticks\":\"\",\"zerolinecolor\":\"white\",\"gridwidth\":2},\"zaxis\":{\"backgroundcolor\":\"#E5ECF6\",\"gridcolor\":\"white\",\"linecolor\":\"white\",\"showbackground\":true,\"ticks\":\"\",\"zerolinecolor\":\"white\",\"gridwidth\":2}},\"shapedefaults\":{\"line\":{\"color\":\"#2a3f5f\"}},\"annotationdefaults\":{\"arrowcolor\":\"#2a3f5f\",\"arrowhead\":0,\"arrowwidth\":1},\"geo\":{\"bgcolor\":\"white\",\"landcolor\":\"#E5ECF6\",\"subunitcolor\":\"white\",\"showland\":true,\"showlakes\":true,\"lakecolor\":\"white\"},\"title\":{\"x\":0.05},\"mapbox\":{\"style\":\"light\"}}},\"xaxis\":{\"anchor\":\"y\",\"domain\":[0.0,1.0],\"title\":{\"text\":\"\\u041f\\u0440\\u043e\\u0441\\u043c\\u043e\\u0442\\u0440\\u044b\"}},\"yaxis\":{\"anchor\":\"x\",\"domain\":[0.0,1.0],\"title\":{\"text\":\"\\u0422\\u041e\\u041f 20\"}},\"legend\":{\"tracegroupgap\":0},\"margin\":{\"t\":60},\"barmode\":\"relative\"},                        {\"responsive\": true}                    ).then(function(){\n",
       "                            \n",
       "var gd = document.getElementById('ed4664e7-0078-4d60-9969-05d9cfa0d79f');\n",
       "var x = new MutationObserver(function (mutations, observer) {{\n",
       "        var display = window.getComputedStyle(gd).display;\n",
       "        if (!display || display === 'none') {{\n",
       "            console.log([gd, 'removed!']);\n",
       "            Plotly.purge(gd);\n",
       "            observer.disconnect();\n",
       "        }}\n",
       "}});\n",
       "\n",
       "// Listen for the removal of the full notebook cells\n",
       "var notebookContainer = gd.closest('#notebook-container');\n",
       "if (notebookContainer) {{\n",
       "    x.observe(notebookContainer, {childList: true});\n",
       "}}\n",
       "\n",
       "// Listen for the clearing of the current output cell\n",
       "var outputEl = gd.closest('.output');\n",
       "if (outputEl) {{\n",
       "    x.observe(outputEl, {childList: true});\n",
       "}}\n",
       "\n",
       "                        })                };                });            </script>        </div>"
      ]
     },
     "metadata": {},
     "output_type": "display_data"
    }
   ],
   "source": [
    "fig = px.bar(df_20.sort_values('Просмотры', ascending = True), x = 'Просмотры', y = 'ТОП 20', text_auto = True)\n",
    "fig.show()"
   ]
  },
  {
   "cell_type": "code",
   "execution_count": null,
   "id": "36dab8d5",
   "metadata": {},
   "outputs": [],
   "source": []
  }
 ],
 "metadata": {
  "kernelspec": {
   "display_name": "Python 3 (ipykernel)",
   "language": "python",
   "name": "python3"
  },
  "language_info": {
   "codemirror_mode": {
    "name": "ipython",
    "version": 3
   },
   "file_extension": ".py",
   "mimetype": "text/x-python",
   "name": "python",
   "nbconvert_exporter": "python",
   "pygments_lexer": "ipython3",
   "version": "3.10.9"
  }
 },
 "nbformat": 4,
 "nbformat_minor": 5
}
